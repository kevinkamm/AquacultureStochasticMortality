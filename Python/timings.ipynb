{
 "cells": [
  {
   "cell_type": "code",
   "execution_count": 28,
   "metadata": {},
   "outputs": [],
   "source": [
    "import numpy as np\n",
    "from sklearn.preprocessing import PolynomialFeatures\n",
    "from sklearn.linear_model import LinearRegression\n",
    "\n",
    "dtype=np.float32"
   ]
  },
  {
   "cell_type": "code",
   "execution_count": 29,
   "metadata": {},
   "outputs": [],
   "source": [
    "M=100000\n",
    "d=6\n",
    "rng = np.random.default_rng()\n",
    "X=rng.standard_normal((M,d),dtype=dtype)\n",
    "Y=(X[:,0]**2 + X[:,-1]**4).reshape((-1,1))"
   ]
  },
  {
   "cell_type": "code",
   "execution_count": 30,
   "metadata": {},
   "outputs": [],
   "source": [
    "deg = 6\n",
    "poly = PolynomialFeatures(deg)\n",
    "poly_reg_model = LinearRegression()"
   ]
  },
  {
   "cell_type": "code",
   "execution_count": 31,
   "metadata": {},
   "outputs": [
    {
     "name": "stdout",
     "output_type": "stream",
     "text": [
      "2.19 s ± 39.7 ms per loop (mean ± std. dev. of 7 runs, 1 loop each)\n"
     ]
    }
   ],
   "source": [
    "%%timeit \n",
    "poly = PolynomialFeatures(deg)\n",
    "poly_reg_model = LinearRegression()\n",
    "poly_features = poly.fit_transform(X)\n",
    "poly_reg_model.fit(poly_features, Y)"
   ]
  },
  {
   "cell_type": "code",
   "execution_count": 32,
   "metadata": {},
   "outputs": [
    {
     "name": "stdout",
     "output_type": "stream",
     "text": [
      "(100000, 1)\n",
      "error 3.2411093561736035e-27\n"
     ]
    }
   ],
   "source": [
    "poly_features = poly.fit_transform(X)\n",
    "poly_reg_model.fit(poly_features, Y)\n",
    "Yfit= poly_reg_model.predict(poly_features)\n",
    "print(Yfit.shape)\n",
    "print(f'error {np.mean((Y-Yfit)**2)}')"
   ]
  },
  {
   "cell_type": "code",
   "execution_count": 33,
   "metadata": {},
   "outputs": [
    {
     "name": "stdout",
     "output_type": "stream",
     "text": [
      "[8.3450085]\n",
      "[8.3450085]\n",
      "float64\n"
     ]
    }
   ],
   "source": [
    "print(Y[0])\n",
    "#print(np.sum(poly.transform(X[0,:].reshape(1,-1)),axis=1))\n",
    "print(Yfit[0])\n",
    "print(Yfit.dtype)"
   ]
  },
  {
   "cell_type": "code",
   "execution_count": 55,
   "metadata": {},
   "outputs": [
    {
     "name": "stdout",
     "output_type": "stream",
     "text": [
      "32\n",
      "8\n",
      "False\n"
     ]
    }
   ],
   "source": [
    "import numpy as np\n",
    "import numexpr as ne\n",
    "import time\n",
    "\n",
    "print(ne.detect_number_of_cores())\n",
    "print(ne.get_num_threads())\n",
    "print(ne.use_vml)\n",
    "wInf:float=6, # asymptotic weight (kg)\n",
    "a:float=1.113\n",
    "b:float=1.097\n",
    "c:float=1.43\n",
    "t=np.random.randn(100000,1)"
   ]
  },
  {
   "cell_type": "code",
   "execution_count": 33,
   "metadata": {},
   "outputs": [
    {
     "name": "stdout",
     "output_type": "stream",
     "text": [
      "115 µs ± 4.09 µs per loop (mean ± std. dev. of 7 runs, 10,000 loops each)\n"
     ]
    }
   ],
   "source": [
    "%%timeit\n",
    "wt=ne.evaluate(\"wInf*(a-b*exp(-c*t))**3 \")"
   ]
  },
  {
   "cell_type": "code",
   "execution_count": 34,
   "metadata": {},
   "outputs": [
    {
     "name": "stdout",
     "output_type": "stream",
     "text": [
      "1.51 ms ± 9.56 µs per loop (mean ± std. dev. of 7 runs, 1,000 loops each)\n"
     ]
    }
   ],
   "source": [
    "%%timeit\n",
    "wt=wInf*(a-b*np.exp(-c*t))**3"
   ]
  },
  {
   "cell_type": "code",
   "execution_count": 47,
   "metadata": {},
   "outputs": [
    {
     "name": "stdout",
     "output_type": "stream",
     "text": [
      "Elapsed time 0.0010247230529785156s\n"
     ]
    }
   ],
   "source": [
    "tic=time.time()\n",
    "wt=ne.evaluate(\"wInf*(a-b*exp(-c*t))**3 \")\n",
    "print(f'Elapsed time {time.time()-tic}s')"
   ]
  },
  {
   "cell_type": "code",
   "execution_count": 53,
   "metadata": {},
   "outputs": [
    {
     "name": "stdout",
     "output_type": "stream",
     "text": [
      "Elapsed time 0.0021164417266845703s\n"
     ]
    }
   ],
   "source": [
    "tic=time.time()\n",
    "wt=wInf*(a-b*np.exp(-c*t))**3\n",
    "print(f'Elapsed time {time.time()-tic}s')"
   ]
  },
  {
   "cell_type": "code",
   "execution_count": 12,
   "metadata": {},
   "outputs": [
    {
     "name": "stdout",
     "output_type": "stream",
     "text": [
      "24\n",
      "<class 'numpy.ndarray'>\n",
      "float64\n",
      "float32\n",
      "blas_armpl_info:\n",
      "  NOT AVAILABLE\n",
      "blas_mkl_info:\n",
      "    libraries = ['mkl_rt']\n",
      "    library_dirs = ['C:/ProgramData/anaconda3/envs/intelpython310\\\\Library\\\\lib']\n",
      "    define_macros = [('SCIPY_MKL_H', None), ('HAVE_CBLAS', None)]\n",
      "    include_dirs = ['C:/ProgramData/anaconda3/envs/intelpython310\\\\Library\\\\include']\n",
      "blas_opt_info:\n",
      "    libraries = ['mkl_rt']\n",
      "    library_dirs = ['C:/ProgramData/anaconda3/envs/intelpython310\\\\Library\\\\lib']\n",
      "    define_macros = [('SCIPY_MKL_H', None), ('HAVE_CBLAS', None)]\n",
      "    include_dirs = ['C:/ProgramData/anaconda3/envs/intelpython310\\\\Library\\\\include']\n",
      "lapack_armpl_info:\n",
      "  NOT AVAILABLE\n",
      "lapack_mkl_info:\n",
      "    libraries = ['mkl_rt']\n",
      "    library_dirs = ['C:/ProgramData/anaconda3/envs/intelpython310\\\\Library\\\\lib']\n",
      "    define_macros = [('SCIPY_MKL_H', None), ('HAVE_CBLAS', None)]\n",
      "    include_dirs = ['C:/ProgramData/anaconda3/envs/intelpython310\\\\Library\\\\include']\n",
      "lapack_opt_info:\n",
      "    libraries = ['mkl_rt']\n",
      "    library_dirs = ['C:/ProgramData/anaconda3/envs/intelpython310\\\\Library\\\\lib']\n",
      "    define_macros = [('SCIPY_MKL_H', None), ('HAVE_CBLAS', None)]\n",
      "    include_dirs = ['C:/ProgramData/anaconda3/envs/intelpython310\\\\Library\\\\include']\n",
      "Supported SIMD extensions in this NumPy install:\n",
      "    baseline = SSE,SSE2,SSE3,SSSE3,SSE41,POPCNT,SSE42\n",
      "    found = \n",
      "    not found = \n"
     ]
    }
   ],
   "source": [
    "import os\n",
    "import mkl\n",
    "os.environ['MKL_VERBOSE']=\"1\"\n",
    "\n",
    "import mkl_random as mk\n",
    "import numpy as np\n",
    "from mtalg.random import MultithreadedRNG\n",
    "import tensorflow as tf\n",
    "os.environ['TF_CPP_MIN_LOG_LEVEL'] = '3' \n",
    "os.environ[\"TF_ENABLE_ONEDNN_OPTS\"]=\"1\"\n",
    "tf.config.set_visible_devices([], 'GPU')\n",
    "print(mkl.get_max_threads())\n",
    "rng=np.random.default_rng()\n",
    "mrng = MultithreadedRNG(seed=1, num_threads=24)\n",
    "x=rng.standard_normal((720,8196))\n",
    "print(type(x))\n",
    "y=mk.standard_normal((720,8196))\n",
    "print(y.dtype)\n",
    "z=mrng.standard_normal((720,8196),dtype=np.float32)\n",
    "print(z.dtype)\n",
    "np.show_config()"
   ]
  },
  {
   "cell_type": "code",
   "execution_count": 13,
   "metadata": {},
   "outputs": [],
   "source": [
    "# @tf.function\n",
    "# def tfrng(size):\n",
    "#     return tf.random.normal(size,dtype=tf.float32)\n",
    "g = tf.random.Generator.from_seed(1234)\n",
    "\n",
    "# w=tfrng((720,8196))\n",
    "# print(w.dtype)"
   ]
  },
  {
   "cell_type": "code",
   "execution_count": 2,
   "metadata": {},
   "outputs": [
    {
     "name": "stdout",
     "output_type": "stream",
     "text": [
      "32.1 ms ± 472 µs per loop (mean ± std. dev. of 7 runs, 10 loops each)\n"
     ]
    }
   ],
   "source": [
    "%%timeit\n",
    "rng.standard_normal((720,8196),dtype=np.float32)"
   ]
  },
  {
   "cell_type": "code",
   "execution_count": 3,
   "metadata": {},
   "outputs": [
    {
     "name": "stdout",
     "output_type": "stream",
     "text": [
      "15.6 ms ± 219 µs per loop (mean ± std. dev. of 7 runs, 100 loops each)\n"
     ]
    }
   ],
   "source": [
    "%%timeit\n",
    "mk.standard_normal((720,8196))"
   ]
  },
  {
   "cell_type": "code",
   "execution_count": 10,
   "metadata": {},
   "outputs": [
    {
     "name": "stdout",
     "output_type": "stream",
     "text": [
      "16.7 ms ± 194 µs per loop (mean ± std. dev. of 7 runs, 100 loops each)\n"
     ]
    }
   ],
   "source": [
    "%%timeit\n",
    "z=mrng.standard_normal((720,8196),dtype=np.float32)"
   ]
  },
  {
   "cell_type": "code",
   "execution_count": 14,
   "metadata": {},
   "outputs": [
    {
     "name": "stdout",
     "output_type": "stream",
     "text": [
      "12.6 ms ± 132 µs per loop (mean ± std. dev. of 7 runs, 100 loops each)\n"
     ]
    }
   ],
   "source": [
    "%%timeit\n",
    "w=g.normal((720,8196),dtype=np.float32)"
   ]
  }
 ],
 "metadata": {
  "kernelspec": {
   "display_name": "intelpython310",
   "language": "python",
   "name": "python3"
  },
  "language_info": {
   "codemirror_mode": {
    "name": "ipython",
    "version": 3
   },
   "file_extension": ".py",
   "mimetype": "text/x-python",
   "name": "python",
   "nbconvert_exporter": "python",
   "pygments_lexer": "ipython3",
   "version": "3.10.8"
  },
  "orig_nbformat": 4
 },
 "nbformat": 4,
 "nbformat_minor": 2
}
