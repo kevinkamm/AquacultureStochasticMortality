{
 "cells": [
  {
   "cell_type": "code",
   "execution_count": 1,
   "metadata": {},
   "outputs": [
    {
     "name": "stdout",
     "output_type": "stream",
     "text": [
      "Feeding costs 11.875 and Harvesting costs 4.75\n"
     ]
    },
    {
     "name": "stderr",
     "output_type": "stream",
     "text": [
      "c:\\ProgramData\\Anaconda3\\envs\\intelpython310\\lib\\site-packages\\tqdm\\auto.py:22: TqdmWarning: IProgress not found. Please update jupyter and ipywidgets. See https://ipywidgets.readthedocs.io/en/stable/user_install.html\n",
      "  from .autonotebook import tqdm as notebook_tqdm\n"
     ]
    }
   ],
   "source": [
    "import time\n",
    "import os\n",
    "import numpy as np\n",
    "import tensorflow as tf\n",
    "\n",
    "os.environ['TF_CPP_MIN_LOG_LEVEL'] = '3' \n",
    "os.environ[\"TF_ENABLE_ONEDNN_OPTS\"]=\"1\"\n",
    "# tf.config.set_visible_devices([], 'GPU')\n",
    "T=3.0\n",
    "N=int(T*2*12)\n",
    "r=0.0303\n",
    "d=0\n",
    "Nsim = 10\n",
    "dtype=np.float32\n",
    "seed=1\n",
    "\n",
    "t=np.linspace(0,T,N*Nsim,endpoint=True,dtype=dtype).reshape((-1,1))\n",
    "t=tf.constant(t)\n",
    "\n",
    "from Commodities import Schwartz2Factor\n",
    "'Salmon'\n",
    "# mu, sigma1, sigma2, kappa, alpha, lambda, rho, delta0, P0\n",
    "# salmonParam=[0.12, 0.23, 0.75, 2.6, 0.02, 0.01, 0.9, 0.57, 95] # down,down\n",
    "salmonParam=[0.12, 0.23, 0.75, 2.6, 0.02, 0.2, 0.9, 0.57, 95] # down,up\n",
    "# salmonParam=[0.12, 0.23, 0.75, 2.6, 0.02, 0.6, 0.9, 0.57, 95] # up,up\n",
    "\n",
    "'Soy'\n",
    "# mu, sigma1, sigma2, kappa, alpha, lambda, rho, delta0, P0\n",
    "# soyParam=[0.15, 0.5, 0.4, 1.2, 0.06, 0.14, 0.44, 0.0, 1500] # low vol\n",
    "soyParam=[0.15, 1, 0.4, 1.2, 0.06, 0.14, 0.44, 0.0, 1] # medium vol\n",
    "# soyParam=[0.15, 2, 0.4, 1.2, 0.06, 0.14, 0.44, 0.0, 1500] # high vol\n",
    "\n",
    "'Risk neutral dynamics'\n",
    "salmonParam[0]=r\n",
    "soyParam[0]=r\n",
    "\n",
    "\"Fish feeding 25% of production cost, disease 30%, harvest 10%. Total production cost = 50% of price = labor, smolt, ...\"\n",
    "salmonPrice=salmonParam[-1] #NOK/KG\n",
    "harvestingCosts=salmonPrice*0.5*0.1 # roughly 10%\n",
    "feedingCosts=salmonPrice*0.5*0.25\n",
    "initialSalmon=0.5*salmonPrice+feedingCosts+harvestingCosts #we add the costs to salmon price since they are respected in the model, other costs are fixed and thus removed\n",
    "salmonParam[-1]=initialSalmon\n",
    "print(f'Feeding costs {feedingCosts} and Harvesting costs {harvestingCosts}')\n",
    "# soyParam[-1]=feedingCosts # to save the right dataset, since initial price is not relevant for soy model\n",
    "\n",
    "\n",
    "soy=Schwartz2Factor(soyParam,t,dtype=dtype)\n",
    "salmon=Schwartz2Factor(salmonParam,t,dtype=dtype)\n",
    "\n",
    "\n",
    "from Harvest import Harvest\n",
    "hc = harvestingCosts\n",
    "harvest = Harvest(hc)\n",
    "\n",
    "from Growth import Bertalanffy\n",
    "wInf=6\n",
    "a=1.113\n",
    "b=1.097\n",
    "c=1.43\n",
    "growth = Bertalanffy(t,wInf,a,b,c)\n",
    "\n",
    "from Price import Price\n",
    "price = Price(salmon)\n",
    "\n",
    "from Feed import StochFeed,DetermFeed\n",
    "cr=1.1\n",
    "fc=feedingCosts\n",
    "feed = StochFeed(fc,cr,r,t,soy)\n",
    "# feed = DetermFeed(fc,cr,r,t,soy)\n",
    "\n",
    "from Mortality import ConstMortatlity,HostParasite\n",
    "# n0=10000\n",
    "# m=0.1\n",
    "# mort = ConstMortatlity(t,n0,m)\n",
    "\n",
    "params=[0.05,0.1,8.71,0.05]\n",
    "beta=[0.0835,0.0244]\n",
    "H0=10000.0\n",
    "P0=1\n",
    "mort = HostParasite(t,params,beta,H0,P0)\n",
    "\n",
    "from FishFarm import fishFarm\n",
    "farm = fishFarm(growth,feed,price,harvest,mort,stride=Nsim,seed=seed)\n"
   ]
  },
  {
   "cell_type": "code",
   "execution_count": 2,
   "metadata": {},
   "outputs": [
    {
     "name": "stdout",
     "output_type": "stream",
     "text": [
      "(81920,)\n",
      "Mean stopping time 1.9331333637237549 with mean value 1948095.625 in 13.71017599105835 s\n"
     ]
    }
   ],
   "source": [
    "farm.seed(seed)\n",
    "\n",
    "batch_size=2**12\n",
    "batches=20\n",
    "gen = farm.generateFishFarm\n",
    "\n",
    "from OptimalStopping import Polynomial,DeepOptS,LSMC\n",
    "basis = Polynomial(deg=2,dtype=dtype)\n",
    "opt=LSMC(r,farm.tCoarse,gen,basis,batch_size=batch_size)\n",
    "\n",
    "\n",
    "opt.train(batches)\n",
    "\n",
    "farm.seed(seed+1)\n",
    "tic=time.time()\n",
    "tau,Vtau=opt.evaluate(batches)\n",
    "ctimeEval=time.time()-tic\n",
    "\n",
    "print(tau.shape)\n",
    "print(f'Mean stopping time {np.mean(tau)} with mean value {np.mean(Vtau)} in {ctimeEval} s')"
   ]
  },
  {
   "cell_type": "code",
   "execution_count": 3,
   "metadata": {},
   "outputs": [
    {
     "name": "stderr",
     "output_type": "stream",
     "text": [
      "  0%|          | 0/3006 [00:00<?, ?epoch/s]"
     ]
    },
    {
     "ename": "InvalidArgumentError",
     "evalue": "Graph execution error:\n\n2 root error(s) found.\n  (0) INVALID_ARGUMENT:  TypeError: `generator` yielded an element of shape (4096, 8, 146) where an element of shape (4096, 7, 146) was expected.\nTraceback (most recent call last):\n\n  File \"c:\\ProgramData\\Anaconda3\\envs\\intelpython310\\lib\\site-packages\\tensorflow\\python\\ops\\script_ops.py\", line 271, in __call__\n    ret = func(*args)\n\n  File \"c:\\ProgramData\\Anaconda3\\envs\\intelpython310\\lib\\site-packages\\tensorflow\\python\\autograph\\impl\\api.py\", line 642, in wrapper\n    return func(*args, **kwargs)\n\n  File \"c:\\ProgramData\\Anaconda3\\envs\\intelpython310\\lib\\site-packages\\tensorflow\\python\\data\\ops\\dataset_ops.py\", line 1047, in generator_py_func\n    raise TypeError(\n\nTypeError: `generator` yielded an element of shape (4096, 8, 146) where an element of shape (4096, 7, 146) was expected.\n\n\n\t [[{{node PyFunc}}]]\n\t [[IteratorGetNext]]\n\t [[IteratorGetNext/_2]]\n  (1) INVALID_ARGUMENT:  TypeError: `generator` yielded an element of shape (4096, 8, 146) where an element of shape (4096, 7, 146) was expected.\nTraceback (most recent call last):\n\n  File \"c:\\ProgramData\\Anaconda3\\envs\\intelpython310\\lib\\site-packages\\tensorflow\\python\\ops\\script_ops.py\", line 271, in __call__\n    ret = func(*args)\n\n  File \"c:\\ProgramData\\Anaconda3\\envs\\intelpython310\\lib\\site-packages\\tensorflow\\python\\autograph\\impl\\api.py\", line 642, in wrapper\n    return func(*args, **kwargs)\n\n  File \"c:\\ProgramData\\Anaconda3\\envs\\intelpython310\\lib\\site-packages\\tensorflow\\python\\data\\ops\\dataset_ops.py\", line 1047, in generator_py_func\n    raise TypeError(\n\nTypeError: `generator` yielded an element of shape (4096, 8, 146) where an element of shape (4096, 7, 146) was expected.\n\n\n\t [[{{node PyFunc}}]]\n\t [[IteratorGetNext]]\n0 successful operations.\n0 derived errors ignored. [Op:__inference_train_function_14623]",
     "output_type": "error",
     "traceback": [
      "\u001b[1;31m---------------------------------------------------------------------------\u001b[0m",
      "\u001b[1;31mInvalidArgumentError\u001b[0m                      Traceback (most recent call last)",
      "Cell \u001b[1;32mIn[3], line 11\u001b[0m\n\u001b[0;32m      7\u001b[0m \u001b[39mfrom\u001b[39;00m \u001b[39mOptimalStopping\u001b[39;00m \u001b[39mimport\u001b[39;00m Polynomial,DeepOptS,LSMC\n\u001b[0;32m      9\u001b[0m opt\u001b[39m=\u001b[39mDeepOptS(r,farm\u001b[39m.\u001b[39mtCoarse,gen,d\u001b[39m=\u001b[39mfarm\u001b[39m.\u001b[39md,batch_size\u001b[39m=\u001b[39mbatch_size)\n\u001b[1;32m---> 11\u001b[0m opt\u001b[39m.\u001b[39;49mtrain(batches)\n\u001b[0;32m     13\u001b[0m farm\u001b[39m.\u001b[39mseed(seed\u001b[39m+\u001b[39m\u001b[39m1\u001b[39m)\n\u001b[0;32m     14\u001b[0m tic\u001b[39m=\u001b[39mtime\u001b[39m.\u001b[39mtime()\n",
      "File \u001b[1;32mc:\\Users\\kevin\\Documents\\GitHub\\AquacultureStochasticMortality\\Python\\OptimalStopping.py:207\u001b[0m, in \u001b[0;36mDeepOptS.train\u001b[1;34m(self, batches)\u001b[0m\n\u001b[0;32m    205\u001b[0m \u001b[39mdef\u001b[39;00m \u001b[39mtrain\u001b[39m(\u001b[39mself\u001b[39m,batches:\u001b[39mint\u001b[39m):\n\u001b[0;32m    206\u001b[0m     \u001b[39m# defining the dataset in init is faster for some reason\u001b[39;00m\n\u001b[1;32m--> 207\u001b[0m     \u001b[39mself\u001b[39;49m\u001b[39m.\u001b[39;49mmodel\u001b[39m.\u001b[39;49mfit(\u001b[39mself\u001b[39;49m\u001b[39m.\u001b[39;49mdataset,epochs\u001b[39m=\u001b[39;49m\u001b[39mself\u001b[39;49m\u001b[39m.\u001b[39;49mtrain_steps,steps_per_epoch\u001b[39m=\u001b[39;49m\u001b[39m1\u001b[39;49m,verbose\u001b[39m=\u001b[39;49m\u001b[39m0\u001b[39;49m, callbacks\u001b[39m=\u001b[39;49m[TqdmCallback(verbose\u001b[39m=\u001b[39;49m\u001b[39m0\u001b[39;49m)],\n\u001b[0;32m    208\u001b[0m                    workers\u001b[39m=\u001b[39;49m\u001b[39m1\u001b[39;49m,\n\u001b[0;32m    209\u001b[0m                    use_multiprocessing\u001b[39m=\u001b[39;49m\u001b[39mFalse\u001b[39;49;00m)\n",
      "File \u001b[1;32mc:\\ProgramData\\Anaconda3\\envs\\intelpython310\\lib\\site-packages\\keras\\utils\\traceback_utils.py:67\u001b[0m, in \u001b[0;36mfilter_traceback.<locals>.error_handler\u001b[1;34m(*args, **kwargs)\u001b[0m\n\u001b[0;32m     65\u001b[0m \u001b[39mexcept\u001b[39;00m \u001b[39mException\u001b[39;00m \u001b[39mas\u001b[39;00m e:  \u001b[39m# pylint: disable=broad-except\u001b[39;00m\n\u001b[0;32m     66\u001b[0m   filtered_tb \u001b[39m=\u001b[39m _process_traceback_frames(e\u001b[39m.\u001b[39m__traceback__)\n\u001b[1;32m---> 67\u001b[0m   \u001b[39mraise\u001b[39;00m e\u001b[39m.\u001b[39mwith_traceback(filtered_tb) \u001b[39mfrom\u001b[39;00m \u001b[39mNone\u001b[39;00m\n\u001b[0;32m     68\u001b[0m \u001b[39mfinally\u001b[39;00m:\n\u001b[0;32m     69\u001b[0m   \u001b[39mdel\u001b[39;00m filtered_tb\n",
      "File \u001b[1;32mc:\\ProgramData\\Anaconda3\\envs\\intelpython310\\lib\\site-packages\\tensorflow\\python\\eager\\execute.py:54\u001b[0m, in \u001b[0;36mquick_execute\u001b[1;34m(op_name, num_outputs, inputs, attrs, ctx, name)\u001b[0m\n\u001b[0;32m     52\u001b[0m \u001b[39mtry\u001b[39;00m:\n\u001b[0;32m     53\u001b[0m   ctx\u001b[39m.\u001b[39mensure_initialized()\n\u001b[1;32m---> 54\u001b[0m   tensors \u001b[39m=\u001b[39m pywrap_tfe\u001b[39m.\u001b[39mTFE_Py_Execute(ctx\u001b[39m.\u001b[39m_handle, device_name, op_name,\n\u001b[0;32m     55\u001b[0m                                       inputs, attrs, num_outputs)\n\u001b[0;32m     56\u001b[0m \u001b[39mexcept\u001b[39;00m core\u001b[39m.\u001b[39m_NotOkStatusException \u001b[39mas\u001b[39;00m e:\n\u001b[0;32m     57\u001b[0m   \u001b[39mif\u001b[39;00m name \u001b[39mis\u001b[39;00m \u001b[39mnot\u001b[39;00m \u001b[39mNone\u001b[39;00m:\n",
      "\u001b[1;31mInvalidArgumentError\u001b[0m: Graph execution error:\n\n2 root error(s) found.\n  (0) INVALID_ARGUMENT:  TypeError: `generator` yielded an element of shape (4096, 8, 146) where an element of shape (4096, 7, 146) was expected.\nTraceback (most recent call last):\n\n  File \"c:\\ProgramData\\Anaconda3\\envs\\intelpython310\\lib\\site-packages\\tensorflow\\python\\ops\\script_ops.py\", line 271, in __call__\n    ret = func(*args)\n\n  File \"c:\\ProgramData\\Anaconda3\\envs\\intelpython310\\lib\\site-packages\\tensorflow\\python\\autograph\\impl\\api.py\", line 642, in wrapper\n    return func(*args, **kwargs)\n\n  File \"c:\\ProgramData\\Anaconda3\\envs\\intelpython310\\lib\\site-packages\\tensorflow\\python\\data\\ops\\dataset_ops.py\", line 1047, in generator_py_func\n    raise TypeError(\n\nTypeError: `generator` yielded an element of shape (4096, 8, 146) where an element of shape (4096, 7, 146) was expected.\n\n\n\t [[{{node PyFunc}}]]\n\t [[IteratorGetNext]]\n\t [[IteratorGetNext/_2]]\n  (1) INVALID_ARGUMENT:  TypeError: `generator` yielded an element of shape (4096, 8, 146) where an element of shape (4096, 7, 146) was expected.\nTraceback (most recent call last):\n\n  File \"c:\\ProgramData\\Anaconda3\\envs\\intelpython310\\lib\\site-packages\\tensorflow\\python\\ops\\script_ops.py\", line 271, in __call__\n    ret = func(*args)\n\n  File \"c:\\ProgramData\\Anaconda3\\envs\\intelpython310\\lib\\site-packages\\tensorflow\\python\\autograph\\impl\\api.py\", line 642, in wrapper\n    return func(*args, **kwargs)\n\n  File \"c:\\ProgramData\\Anaconda3\\envs\\intelpython310\\lib\\site-packages\\tensorflow\\python\\data\\ops\\dataset_ops.py\", line 1047, in generator_py_func\n    raise TypeError(\n\nTypeError: `generator` yielded an element of shape (4096, 8, 146) where an element of shape (4096, 7, 146) was expected.\n\n\n\t [[{{node PyFunc}}]]\n\t [[IteratorGetNext]]\n0 successful operations.\n0 derived errors ignored. [Op:__inference_train_function_14623]"
     ]
    }
   ],
   "source": [
    "farm.seed(seed)\n",
    "\n",
    "batch_size=2**12\n",
    "batches=20\n",
    "gen = farm.generateFishFarm\n",
    "\n",
    "from OptimalStopping import Polynomial,DeepOptS,LSMC\n",
    "\n",
    "opt=DeepOptS(r,farm.tCoarse,gen,d=farm.d,batch_size=batch_size)\n",
    "\n",
    "opt.train(batches)\n",
    "\n",
    "farm.seed(seed+1)\n",
    "tic=time.time()\n",
    "tau,Vtau=opt.evaluate(batches)\n",
    "ctimeEval=time.time()-tic\n",
    "\n",
    "print(tau.shape)\n",
    "print(f'Mean stopping time {np.mean(tau)} with mean value {np.mean(Vtau)} in {ctimeEval} s')"
   ]
  }
 ],
 "metadata": {
  "kernelspec": {
   "display_name": "intelpython310",
   "language": "python",
   "name": "python3"
  },
  "language_info": {
   "codemirror_mode": {
    "name": "ipython",
    "version": 3
   },
   "file_extension": ".py",
   "mimetype": "text/x-python",
   "name": "python",
   "nbconvert_exporter": "python",
   "pygments_lexer": "ipython3",
   "version": "3.10.8"
  },
  "orig_nbformat": 4
 },
 "nbformat": 4,
 "nbformat_minor": 2
}
