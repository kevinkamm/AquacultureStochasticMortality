{
 "cells": [
  {
   "cell_type": "code",
   "execution_count": 1,
   "metadata": {},
   "outputs": [],
   "source": [
    "import numpy as np\n",
    "import tensorflow as tf"
   ]
  },
  {
   "cell_type": "markdown",
   "metadata": {},
   "source": [
    "Building Fish Farm"
   ]
  },
  {
   "cell_type": "code",
   "execution_count": 2,
   "metadata": {},
   "outputs": [],
   "source": [
    "T=3.0\n",
    "N=int(T*2*12)\n",
    "Nsim = 10\n",
    "dtype=np.float32\n",
    "seed=1\n",
    "\n",
    "t=np.linspace(0,T,N*Nsim,endpoint=True,dtype=dtype).reshape((-1,1))\n",
    "r=0.0303"
   ]
  },
  {
   "cell_type": "code",
   "execution_count": 3,
   "metadata": {},
   "outputs": [
    {
     "name": "stdout",
     "output_type": "stream",
     "text": [
      "Feeding costs 11.875 and Harvesting costs 4.75\n"
     ]
    }
   ],
   "source": [
    "from Commodities import Schwartz2Factor\n",
    "'Salmon'\n",
    "# mu, sigma1, sigma2, kappa, alpha, lambda, rho, delta0, P0\n",
    "# salmonParam=[0.12, 0.23, 0.75, 2.6, 0.02, 0.01, 0.9, 0.57, 95] # down,down\n",
    "salmonParam=[0.12, 0.23, 0.75, 2.6, 0.02, 0.2, 0.9, 0.57, 95] # down,up\n",
    "# salmonParam=[0.12, 0.23, 0.75, 2.6, 0.02, 0.6, 0.9, 0.57, 95] # up,up\n",
    "\n",
    "'Soy'\n",
    "# mu, sigma1, sigma2, kappa, alpha, lambda, rho, delta0, P0\n",
    "# soyParam=[0.15, 0.5, 0.4, 1.2, 0.06, 0.14, 0.44, 0.0, 1] # low vol\n",
    "soyParam=[0.15, 1, 0.4, 1.2, 0.06, 0.14, 0.44, 0.0, 1] # medium vol\n",
    "# soyParam=[0.15, 2, 0.4, 1.2, 0.06, 0.14, 0.44, 0.0, 1] # high vol\n",
    "\n",
    "'Risk neutral dynamics'\n",
    "salmonParam[0]=r\n",
    "soyParam[0]=r\n",
    "\n",
    "\"Fish feeding 25% of production cost, disease 30%, harvest 10%. Total production cost = 50% of price = labor, smolt, ...\"\n",
    "salmonPrice=salmonParam[-1] #NOK/KG\n",
    "harvestingCosts=salmonPrice*0.5*0.1 # roughly 10%\n",
    "feedingCosts=salmonPrice*0.5*0.25\n",
    "initialSalmon=0.5*salmonPrice+feedingCosts+harvestingCosts #we add the costs to salmon price since they are respected in the model, other costs are fixed and thus removed\n",
    "salmonParam[-1]=initialSalmon\n",
    "print(f'Feeding costs {feedingCosts} and Harvesting costs {harvestingCosts}')\n",
    "soyParam[-1]=feedingCosts # to save the right dataset, since initial price is not relevant for soy model\n",
    "\n",
    "rngSoy=np.random.default_rng(seed*100+1)\n",
    "soy=Schwartz2Factor(soyParam,t,dtype=dtype,rng=rngSoy)\n",
    "\n",
    "rngSalmon=np.random.default_rng(seed*100+2)\n",
    "salmon=Schwartz2Factor(salmonParam,t,dtype=dtype,rng=rngSalmon)"
   ]
  },
  {
   "cell_type": "code",
   "execution_count": 4,
   "metadata": {},
   "outputs": [],
   "source": [
    "from Harvest import Harvest\n",
    "hc = harvestingCosts\n",
    "harvest = Harvest(hc)"
   ]
  },
  {
   "cell_type": "code",
   "execution_count": 5,
   "metadata": {},
   "outputs": [],
   "source": [
    "from Growth import Bertalanffy\n",
    "wInf=6\n",
    "a=1.113\n",
    "b=1.097\n",
    "c=1.43\n",
    "growth = Bertalanffy(t,wInf,a,b,c)"
   ]
  },
  {
   "cell_type": "code",
   "execution_count": 6,
   "metadata": {},
   "outputs": [],
   "source": [
    "from Price import Price\n",
    "price = Price(salmon)"
   ]
  },
  {
   "cell_type": "code",
   "execution_count": 7,
   "metadata": {},
   "outputs": [],
   "source": [
    "from Feed import StochFeed,DetermFeed\n",
    "cr=1.1\n",
    "fc=feedingCosts\n",
    "# feed = StochFeed(fc,cr,r,t,soy)\n",
    "feed = DetermFeed(fc,cr,r,t,soy)"
   ]
  },
  {
   "cell_type": "code",
   "execution_count": 8,
   "metadata": {},
   "outputs": [],
   "source": [
    "from Mortality import ConstMortatlity\n",
    "n0=10000\n",
    "m=0.1\n",
    "mort = ConstMortatlity(t,n0,m)"
   ]
  },
  {
   "cell_type": "code",
   "execution_count": 9,
   "metadata": {},
   "outputs": [],
   "source": [
    "from FishFarm import fishFarm\n",
    "farm = fishFarm(growth,feed,price,harvest,mort,stride=Nsim)"
   ]
  },
  {
   "cell_type": "code",
   "execution_count": 10,
   "metadata": {},
   "outputs": [
    {
     "name": "stdout",
     "output_type": "stream",
     "text": [
      "Mean stopping time 2.49592661857605 with mean value 2414047.75\n"
     ]
    }
   ],
   "source": [
    "from OptimalStopping import Polynomial,LSMC\n",
    "deg=2\n",
    "batch_size=2**13 #2**13=8192\n",
    "batches=32 #maybe not process safe, because same rng for all processes #TODO compare to regular loop\n",
    "gen = farm.generateFishFarm\n",
    "\n",
    "basis = Polynomial(deg=deg,dtype=dtype)\n",
    "\n",
    "opt=LSMC(r,farm.tCoarse,gen,basis)\n",
    "# opt.train(batches)\n",
    "\n",
    "rngSoy=np.random.default_rng(seed*100+1)\n",
    "rngSalmon=np.random.default_rng(seed*100+2)\n",
    "salmon.setgen(rngSalmon)\n",
    "soy.setgen(rngSoy)\n",
    "tau,Vtau=opt.evaluate(batch_size,batches)\n",
    "\n",
    "print(f'Mean stopping time {np.mean(tau)} with mean value {np.mean(Vtau)}')"
   ]
  }
 ],
 "metadata": {
  "kernelspec": {
   "display_name": "intelpython310",
   "language": "python",
   "name": "python3"
  },
  "language_info": {
   "codemirror_mode": {
    "name": "ipython",
    "version": 3
   },
   "file_extension": ".py",
   "mimetype": "text/x-python",
   "name": "python",
   "nbconvert_exporter": "python",
   "pygments_lexer": "ipython3",
   "version": "3.10.8"
  },
  "orig_nbformat": 4
 },
 "nbformat": 4,
 "nbformat_minor": 2
}
