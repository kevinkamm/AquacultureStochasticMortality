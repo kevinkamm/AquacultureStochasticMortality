{
 "cells": [
  {
   "cell_type": "code",
   "execution_count": 1,
   "metadata": {},
   "outputs": [
    {
     "name": "stdout",
     "output_type": "stream",
     "text": [
      "Feeding costs 11.875 and Harvesting costs 4.75\n"
     ]
    },
    {
     "name": "stderr",
     "output_type": "stream",
     "text": [
      "c:\\ProgramData\\Anaconda3\\envs\\intelpython310\\lib\\site-packages\\tqdm\\auto.py:22: TqdmWarning: IProgress not found. Please update jupyter and ipywidgets. See https://ipywidgets.readthedocs.io/en/stable/user_install.html\n",
      "  from .autonotebook import tqdm as notebook_tqdm\n"
     ]
    }
   ],
   "source": [
    "import time\n",
    "import os\n",
    "import numpy as np\n",
    "import tensorflow as tf\n",
    "\n",
    "os.environ['TF_CPP_MIN_LOG_LEVEL'] = '3' # disable infos\n",
    "os.environ[\"TF_ENABLE_ONEDNN_OPTS\"]=\"1\" # make sure onednn is used on CPU\n",
    "# tf.config.set_visible_devices([], 'GPU') # GPU improves c-times much\n",
    "\n",
    "T=3.0\n",
    "N=int(T*2*12)\n",
    "Nsim = 10\n",
    "# N=int(T*4*12) # no real difference\n",
    "# Nsim = 5\n",
    "r=0.0303\n",
    "dtype=np.float32\n",
    "seed=1\n",
    "tf.random.set_seed(seed)\n",
    "\n",
    "t=np.linspace(0,T,N*Nsim,endpoint=True,dtype=dtype).reshape((-1,1))\n",
    "t=tf.constant(t)\n",
    "\n",
    "from Commodities import Schwartz2Factor\n",
    "'Salmon'\n",
    "# mu, sigma1, sigma2, kappa, alpha, lambda, rho, delta0, P0\n",
    "# salmonParam=[0.12, 0.23, 0.75, 2.6, 0.02, 0.01, 0.9, 0.57, 95] # down,down\n",
    "salmonParam=[0.12, 0.23, 0.75, 2.6, 0.02, 0.2, 0.9, 0.57, 95] # down,up\n",
    "# salmonParam=[0.12, 0.23, 0.75, 2.6, 0.02, 0.6, 0.9, 0.57, 95] # up,up\n",
    "\n",
    "'Soy'\n",
    "# mu, sigma1, sigma2, kappa, alpha, lambda, rho, delta0, P0\n",
    "# soyParam=[0.15, 0.5, 0.4, 1.2, 0.06, 0.14, 0.44, 0.0, 1] # low vol\n",
    "soyParam=[0.15, 1, 0.4, 1.2, 0.06, 0.14, 0.44, 0.0, 1] # medium vol\n",
    "# soyParam=[0.15, 2, 0.4, 1.2, 0.06, 0.14, 0.44, 0.0, 1] # high vol\n",
    "\n",
    "'Risk neutral dynamics'\n",
    "salmonParam[0]=r\n",
    "soyParam[0]=r\n",
    "\n",
    "\"Fish feeding 25% of production cost, disease 30%, harvest 10%. Total production cost = 50% of price = labor, smolt, ...\"\n",
    "salmonPrice=salmonParam[-1] #NOK/KG\n",
    "harvestingCosts=salmonPrice*0.5*0.1 # roughly 10%\n",
    "feedingCosts=salmonPrice*0.5*0.25\n",
    "initialSalmon=0.5*salmonPrice+feedingCosts+harvestingCosts #we add the costs to salmon price since they are respected in the model, other costs are fixed and thus removed\n",
    "salmonParam[-1]=initialSalmon\n",
    "print(f'Feeding costs {feedingCosts} and Harvesting costs {harvestingCosts}')\n",
    "\n",
    "\n",
    "soy=Schwartz2Factor(soyParam,t,dtype=dtype)\n",
    "salmon=Schwartz2Factor(salmonParam,t,dtype=dtype)\n",
    "\n",
    "\n",
    "from Harvest import Harvest\n",
    "hc = harvestingCosts\n",
    "harvest = Harvest(hc)\n",
    "\n",
    "from Growth import Bertalanffy\n",
    "wInf=6\n",
    "a=1.113\n",
    "b=1.097\n",
    "c=1.43\n",
    "growth = Bertalanffy(t,wInf,a,b,c)\n",
    "\n",
    "from Price import Price\n",
    "price = Price(salmon)\n",
    "\n",
    "from Feed import StochFeed,DetermFeed\n",
    "cr=1.1\n",
    "fc=feedingCosts\n",
    "feed_s = StochFeed(fc,cr,r,t,soy)\n",
    "feed_d = DetermFeed(fc,cr,r,t,soy)\n",
    "\n",
    "from Mortality import ConstMortatlity,HostParasite,DetermHostParasite\n",
    "# n0=10000\n",
    "# m=0.1\n",
    "# mort = ConstMortatlity(t,n0,m) # not comparable to the other models, because of neglected treatment costs\n",
    "\n",
    "params=[0.05,0.1,8.71,0.05]\n",
    "beta=[0.0835,0.0244]\n",
    "H0=10000.0\n",
    "P0=1\n",
    "mort_s = HostParasite(t,params,beta,H0,P0)\n",
    "mort_d = DetermHostParasite(t,params,beta,H0,P0)\n",
    "\n",
    "from FishFarm import fishFarm\n",
    "farm_ss = fishFarm(growth,feed_s,price,harvest,mort_s,stride=Nsim,seed=seed)\n",
    "farm_sd = fishFarm(growth,feed_s,price,harvest,mort_d,stride=Nsim,seed=seed)\n",
    "farm_ds = fishFarm(growth,feed_d,price,harvest,mort_s,stride=Nsim,seed=seed)\n",
    "farm_dd = fishFarm(growth,feed_d,price,harvest,mort_d,stride=Nsim,seed=seed)\n",
    "\n",
    "from OptimalStopping import Polynomial,DeepOptS,LSMC\n",
    "batch_size=2**12 #need to fix it for simplicity\n",
    "batches=20 # not so relevant since we make pathwise comparison, only relevant for value of opt stopping"
   ]
  },
  {
   "cell_type": "code",
   "execution_count": 2,
   "metadata": {},
   "outputs": [
    {
     "name": "stdout",
     "output_type": "stream",
     "text": [
      "(73, 81920, 6)\n"
     ]
    }
   ],
   "source": [
    "farm_ss.seed(seed)\n",
    "tf.random.set_seed(seed)\n",
    "X_ss,V_ss,Vh_ss,ft_ss = farm_ss.generateFishFarm(batch_size*batches) # make sure to evaluate on same data and compiles all code for generating data\n",
    "X_ss=np.array(X_ss)\n",
    "V_ss=np.array(V_ss)\n",
    "Vh_ss=np.array(Vh_ss)\n",
    "ft_ss=np.array(ft_ss)\n",
    "print(X_ss.shape)"
   ]
  },
  {
   "cell_type": "code",
   "execution_count": 3,
   "metadata": {},
   "outputs": [
    {
     "name": "stdout",
     "output_type": "stream",
     "text": [
      "(73, 81920, 4)\n"
     ]
    }
   ],
   "source": [
    "farm_sd.seed(seed)\n",
    "tf.random.set_seed(seed)\n",
    "X_sd,V_sd,Vh_sd,ft_sd = farm_sd.generateFishFarm(batch_size*batches) # make sure to evaluate on same data and compiles all code for generating data\n",
    "X_sd=np.array(X_sd)\n",
    "V_sd=np.array(V_sd)\n",
    "Vh_sd=np.array(Vh_sd)\n",
    "ft_sd=np.array(ft_sd)\n",
    "print(X_sd.shape)"
   ]
  },
  {
   "cell_type": "code",
   "execution_count": 4,
   "metadata": {},
   "outputs": [
    {
     "name": "stdout",
     "output_type": "stream",
     "text": [
      "WARNING:tensorflow:5 out of the last 5 calls to <function Schwartz2Factor.brownianMotionTF at 0x000002AE052AD090> triggered tf.function retracing. Tracing is expensive and the excessive number of tracings could be due to (1) creating @tf.function repeatedly in a loop, (2) passing tensors with different shapes, (3) passing Python objects instead of tensors. For (1), please define your @tf.function outside of the loop. For (2), @tf.function has experimental_relax_shapes=True option that relaxes argument shapes that can avoid unnecessary retracing. For (3), please refer to https://www.tensorflow.org/guide/function#controlling_retracing and https://www.tensorflow.org/api_docs/python/tf/function for  more details.\n",
      "WARNING:tensorflow:6 out of the last 6 calls to <function Schwartz2Factor.brownianMotionTF at 0x000002AE052AD090> triggered tf.function retracing. Tracing is expensive and the excessive number of tracings could be due to (1) creating @tf.function repeatedly in a loop, (2) passing tensors with different shapes, (3) passing Python objects instead of tensors. For (1), please define your @tf.function outside of the loop. For (2), @tf.function has experimental_relax_shapes=True option that relaxes argument shapes that can avoid unnecessary retracing. For (3), please refer to https://www.tensorflow.org/guide/function#controlling_retracing and https://www.tensorflow.org/api_docs/python/tf/function for  more details.\n",
      "(73, 81920, 4)\n"
     ]
    }
   ],
   "source": [
    "farm_ds.seed(seed)\n",
    "tf.random.set_seed(seed)\n",
    "X_ds,V_ds,Vh_ds,ft_ds = farm_ds.generateFishFarm(batch_size*batches) # make sure to evaluate on same data and compiles all code for generating data\n",
    "X_ds=np.array(X_ds)\n",
    "V_ds=np.array(V_ds)\n",
    "Vh_ds=np.array(Vh_ds)\n",
    "ft_ds=np.array(ft_ds)\n",
    "print(X_ds.shape)"
   ]
  },
  {
   "cell_type": "code",
   "execution_count": 5,
   "metadata": {},
   "outputs": [
    {
     "name": "stdout",
     "output_type": "stream",
     "text": [
      "(73, 81920, 2)\n"
     ]
    }
   ],
   "source": [
    "farm_dd.seed(seed)\n",
    "tf.random.set_seed(seed)\n",
    "X_dd,V_dd,Vh_dd,ft_dd = farm_dd.generateFishFarm(batch_size*batches) # make sure to evaluate on same data and compiles all code for generating data\n",
    "X_dd=np.array(X_dd)\n",
    "V_dd=np.array(V_dd)\n",
    "Vh_dd=np.array(Vh_dd)\n",
    "ft_dd=np.array(ft_dd)\n",
    "print(X_dd.shape)"
   ]
  },
  {
   "cell_type": "code",
   "execution_count": 6,
   "metadata": {},
   "outputs": [
    {
     "name": "stderr",
     "output_type": "stream",
     "text": [
      "100%|██████████| 1506/1506 [01:24<00:00, 17.84epoch/s, loss=-1.98e+6, payoff=2e+6]   \n"
     ]
    },
    {
     "name": "stdout",
     "output_type": "stream",
     "text": [
      "Mean stopping time 1.998138666152954 with mean value 1978377.75 in 0.794607400894165 s\n"
     ]
    }
   ],
   "source": [
    "batches=20\n",
    "farm_ss.seed(seed+1)\n",
    "tf.random.set_seed(seed+1)\n",
    "optDeep_ss=DeepOptS(r,farm_ss.tCoarse,farm_ss.generateFishFarm,d=farm_ss.d,batch_size=batch_size)\n",
    "optDeep_ss.train(batches)\n",
    "\n",
    "tic=time.time()\n",
    "tauDOS_ss,VtauDOS_ss=optDeep_ss.evaluate(X_ss,V_ss,Vh_ss,ft_ss)\n",
    "ctimeEval=time.time()-tic\n",
    "print(f'Mean stopping time {np.mean(tauDOS_ss)} with mean value {np.mean(VtauDOS_ss)} in {ctimeEval} s')\n"
   ]
  },
  {
   "cell_type": "code",
   "execution_count": 7,
   "metadata": {},
   "outputs": [
    {
     "name": "stderr",
     "output_type": "stream",
     "text": [
      "  0%|          | 0/1504 [00:00<?, ?epoch/s]"
     ]
    },
    {
     "name": "stderr",
     "output_type": "stream",
     "text": [
      "100%|██████████| 1504/1504 [00:45<00:00, 33.14epoch/s, loss=-1.95e+6, payoff=1.97e+6]\n"
     ]
    },
    {
     "name": "stdout",
     "output_type": "stream",
     "text": [
      "Mean stopping time 1.9985326528549194 with mean value 1957642.0 in 0.6839759349822998 s\n"
     ]
    }
   ],
   "source": [
    "batches=20\n",
    "farm_sd.seed(seed+1)\n",
    "tf.random.set_seed(seed+1)\n",
    "optDeep_sd=DeepOptS(r,farm_sd.tCoarse,farm_sd.generateFishFarm,d=farm_sd.d,batch_size=batch_size)\n",
    "optDeep_sd.train(batches)\n",
    "\n",
    "tic=time.time()\n",
    "tauDOS_sd,VtauDOS_sd=optDeep_sd.evaluate(X_sd,V_sd,Vh_sd,ft_sd)\n",
    "ctimeEval=time.time()-tic\n",
    "print(f'Mean stopping time {np.mean(tauDOS_sd)} with mean value {np.mean(VtauDOS_sd)} in {ctimeEval} s')\n"
   ]
  },
  {
   "cell_type": "code",
   "execution_count": 8,
   "metadata": {},
   "outputs": [
    {
     "name": "stderr",
     "output_type": "stream",
     "text": [
      "100%|██████████| 1504/1504 [00:45<00:00, 33.10epoch/s, loss=-1.9e+6, payoff=1.92e+6] \n"
     ]
    },
    {
     "name": "stdout",
     "output_type": "stream",
     "text": [
      "Mean stopping time 2.0189480781555176 with mean value 1908650.0 in 0.6957533359527588 s\n"
     ]
    }
   ],
   "source": [
    "batches=20\n",
    "farm_ds.seed(seed+1)\n",
    "tf.random.set_seed(seed+1)\n",
    "optDeep_ds=DeepOptS(r,farm_ds.tCoarse,farm_ds.generateFishFarm,d=farm_ds.d,batch_size=batch_size)\n",
    "optDeep_ds.train(batches)\n",
    "\n",
    "tic=time.time()\n",
    "tauDOS_ds,VtauDOS_ds=optDeep_ds.evaluate(X_ds,V_ds,Vh_ds,ft_ds)\n",
    "ctimeEval=time.time()-tic\n",
    "print(f'Mean stopping time {np.mean(tauDOS_ds)} with mean value {np.mean(VtauDOS_ds)} in {ctimeEval} s')\n"
   ]
  },
  {
   "cell_type": "code",
   "execution_count": 9,
   "metadata": {},
   "outputs": [
    {
     "name": "stderr",
     "output_type": "stream",
     "text": [
      "100%|██████████| 1502/1502 [00:44<00:00, 33.65epoch/s, loss=-1.88e+6, payoff=1.9e+6] \n"
     ]
    },
    {
     "name": "stdout",
     "output_type": "stream",
     "text": [
      "Mean stopping time 2.013272762298584 with mean value 1885143.75 in 0.5974786281585693 s\n"
     ]
    }
   ],
   "source": [
    "batches=20\n",
    "farm_dd.seed(seed+1)\n",
    "tf.random.set_seed(seed+1)\n",
    "optDeep_dd=DeepOptS(r,farm_dd.tCoarse,farm_dd.generateFishFarm,d=farm_dd.d,batch_size=batch_size)\n",
    "optDeep_dd.train(batches)\n",
    "\n",
    "tic=time.time()\n",
    "tauDOS_dd,VtauDOS_dd=optDeep_dd.evaluate(X_dd,V_dd,Vh_dd,ft_dd)\n",
    "ctimeEval=time.time()-tic\n",
    "print(f'Mean stopping time {np.mean(tauDOS_dd)} with mean value {np.mean(VtauDOS_dd)} in {ctimeEval} s')\n"
   ]
  },
  {
   "cell_type": "code",
   "execution_count": 10,
   "metadata": {},
   "outputs": [
    {
     "name": "stdout",
     "output_type": "stream",
     "text": [
      "Mean tau: [1.99837093] with mean 1978377.7242798656 with ratio 1.0\n",
      "Mean tau: [1.99876976] with mean 1960509.148033987 with ratio 1.00911425292955\n",
      "Mean tau: [2.01919193] with mean 1907920.1222056947 with ratio 1.0369290104203717\n",
      "Mean tau: [2.01350842] with mean 1887501.994416094 with ratio 1.0481460311738025\n"
     ]
    }
   ],
   "source": [
    "tComp,Vcomp = fishFarm.compareStoppingTimes(V_ss,[tauDOS_ss,tauDOS_sd,tauDOS_ds,tauDOS_dd],np.array(farm_ss.tCoarse))\n",
    "for i in range(0,len(tComp)):\n",
    "    print(f'Mean tau: {tComp[i]} with mean {Vcomp[i]} with ratio {Vcomp[0]/Vcomp[i]}')"
   ]
  },
  {
   "cell_type": "code",
   "execution_count": 11,
   "metadata": {},
   "outputs": [
    {
     "name": "stdout",
     "output_type": "stream",
     "text": [
      "Mean stopping time 1.9465739727020264 with mean value 1948030.375 in 6.378003120422363 s\n",
      "Mean stopping time 2.018662452697754 with mean value 1960095.625 in 1.914052963256836 s\n",
      "Mean stopping time 1.9495112895965576 with mean value 1878285.0 in 1.9309661388397217 s\n",
      "Mean stopping time 2.039482831954956 with mean value 1894509.0 in 1.8499760627746582 s\n"
     ]
    }
   ],
   "source": [
    "basis_ss = Polynomial(deg=2,dtype=dtype)\n",
    "basis_sd = Polynomial(deg=2,dtype=dtype)\n",
    "basis_ds = Polynomial(deg=2,dtype=dtype)\n",
    "basis_dd = Polynomial(deg=2,dtype=dtype)\n",
    "optLSMC_ss=LSMC(r,farm_ss.tCoarse,farm_ss.generateFishFarm,basis_ss,batch_size=batch_size)\n",
    "optLSMC_sd=LSMC(r,farm_sd.tCoarse,farm_sd.generateFishFarm,basis_sd,batch_size=batch_size)\n",
    "optLSMC_ds=LSMC(r,farm_ds.tCoarse,farm_ds.generateFishFarm,basis_ds,batch_size=batch_size)\n",
    "optLSMC_dd=LSMC(r,farm_dd.tCoarse,farm_dd.generateFishFarm,basis_dd,batch_size=batch_size)\n",
    "\n",
    "tic=time.time()\n",
    "tau_ss,Vtau_ss=optLSMC_ss.evaluate(X_ss,V_ss,Vh_ss,ft_ss)\n",
    "ctimeEval=time.time()-tic\n",
    "print(f'Mean stopping time {np.mean(tau_ss)} with mean value {np.mean(Vtau_ss)} in {ctimeEval} s')\n",
    "\n",
    "tic=time.time()\n",
    "tau_sd,Vtau_sd=optLSMC_sd.evaluate(X_sd,V_sd,Vh_sd,ft_sd)\n",
    "ctimeEval=time.time()-tic\n",
    "print(f'Mean stopping time {np.mean(tau_sd)} with mean value {np.mean(Vtau_sd)} in {ctimeEval} s')\n",
    "\n",
    "tic=time.time()\n",
    "tau_ds,Vtau_ds=optLSMC_ds.evaluate(X_ds,V_ds,Vh_ds,ft_ds)\n",
    "ctimeEval=time.time()-tic\n",
    "print(f'Mean stopping time {np.mean(tau_ds)} with mean value {np.mean(Vtau_ds)} in {ctimeEval} s')\n",
    "\n",
    "tic=time.time()\n",
    "tau_dd,Vtau_dd=optLSMC_dd.evaluate(X_dd,V_dd,Vh_dd,ft_dd)\n",
    "ctimeEval=time.time()-tic\n",
    "print(f'Mean stopping time {np.mean(tau_dd)} with mean value {np.mean(Vtau_dd)} in {ctimeEval} s')"
   ]
  },
  {
   "cell_type": "code",
   "execution_count": 12,
   "metadata": {},
   "outputs": [
    {
     "name": "stdout",
     "output_type": "stream",
     "text": [
      "Mean tau: 1.94657412195902 with mean 1948030.4512927532 with ratio 1.0\n",
      "Mean tau: 2.0186626687875107 with mean 1963097.397609949 with ratio 0.9923249114712598\n",
      "Mean tau: 1.9495114495824963 with mean 1877563.9442260743 with ratio 1.0375308160786636\n",
      "Mean tau: 2.0394827027506834 with mean 1896992.8654403687 with ratio 1.026904469058473\n"
     ]
    }
   ],
   "source": [
    "tComp,Vcomp = fishFarm.compareStoppingTimes(V_ss,[tau_ss,tau_sd,tau_ds,tau_dd],np.array(farm_ss.tCoarse))\n",
    "for i in range(0,len(tComp)):\n",
    "    print(f'Mean tau: {tComp[i]} with mean {Vcomp[i]} with ratio {Vcomp[0]/Vcomp[i]}')"
   ]
  }
 ],
 "metadata": {
  "kernelspec": {
   "display_name": "intelpython310",
   "language": "python",
   "name": "python3"
  },
  "language_info": {
   "codemirror_mode": {
    "name": "ipython",
    "version": 3
   },
   "file_extension": ".py",
   "mimetype": "text/x-python",
   "name": "python",
   "nbconvert_exporter": "python",
   "pygments_lexer": "ipython3",
   "version": "3.10.8"
  },
  "orig_nbformat": 4
 },
 "nbformat": 4,
 "nbformat_minor": 2
}
