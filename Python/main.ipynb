{
 "cells": [
  {
   "cell_type": "code",
   "execution_count": 1,
   "metadata": {},
   "outputs": [
    {
     "name": "stdout",
     "output_type": "stream",
     "text": [
      "Feeding costs 11.875 and Harvesting costs 4.75\n"
     ]
    },
    {
     "name": "stderr",
     "output_type": "stream",
     "text": [
      "c:\\ProgramData\\Anaconda3\\envs\\intelpython310\\lib\\site-packages\\tqdm\\auto.py:22: TqdmWarning: IProgress not found. Please update jupyter and ipywidgets. See https://ipywidgets.readthedocs.io/en/stable/user_install.html\n",
      "  from .autonotebook import tqdm as notebook_tqdm\n"
     ]
    }
   ],
   "source": [
    "import time\n",
    "import os\n",
    "import numpy as np\n",
    "import tensorflow as tf\n",
    "\n",
    "os.environ['TF_CPP_MIN_LOG_LEVEL'] = '3' \n",
    "os.environ[\"TF_ENABLE_ONEDNN_OPTS\"]=\"1\"\n",
    "# tf.config.set_visible_devices([], 'GPU')\n",
    "T=3.0\n",
    "N=int(T*2*12)\n",
    "r=0.0303\n",
    "d=0\n",
    "Nsim = 10\n",
    "dtype=np.float32\n",
    "seed=1\n",
    "\n",
    "t=np.linspace(0,T,N*Nsim,endpoint=True,dtype=dtype).reshape((-1,1))\n",
    "t=tf.constant(t)\n",
    "\n",
    "from Commodities import Schwartz2Factor\n",
    "'Salmon'\n",
    "# mu, sigma1, sigma2, kappa, alpha, lambda, rho, delta0, P0\n",
    "# salmonParam=[0.12, 0.23, 0.75, 2.6, 0.02, 0.01, 0.9, 0.57, 95] # down,down\n",
    "salmonParam=[0.12, 0.23, 0.75, 2.6, 0.02, 0.2, 0.9, 0.57, 95] # down,up\n",
    "# salmonParam=[0.12, 0.23, 0.75, 2.6, 0.02, 0.6, 0.9, 0.57, 95] # up,up\n",
    "\n",
    "'Soy'\n",
    "# mu, sigma1, sigma2, kappa, alpha, lambda, rho, delta0, P0\n",
    "# soyParam=[0.15, 0.5, 0.4, 1.2, 0.06, 0.14, 0.44, 0.0, 1500] # low vol\n",
    "soyParam=[0.15, 1, 0.4, 1.2, 0.06, 0.14, 0.44, 0.0, 1] # medium vol\n",
    "# soyParam=[0.15, 2, 0.4, 1.2, 0.06, 0.14, 0.44, 0.0, 1500] # high vol\n",
    "\n",
    "'Risk neutral dynamics'\n",
    "salmonParam[0]=r\n",
    "soyParam[0]=r\n",
    "\n",
    "\"Fish feeding 25% of production cost, disease 30%, harvest 10%. Total production cost = 50% of price = labor, smolt, ...\"\n",
    "salmonPrice=salmonParam[-1] #NOK/KG\n",
    "harvestingCosts=salmonPrice*0.5*0.1 # roughly 10%\n",
    "feedingCosts=salmonPrice*0.5*0.25\n",
    "initialSalmon=0.5*salmonPrice+feedingCosts+harvestingCosts #we add the costs to salmon price since they are respected in the model, other costs are fixed and thus removed\n",
    "salmonParam[-1]=initialSalmon\n",
    "print(f'Feeding costs {feedingCosts} and Harvesting costs {harvestingCosts}')\n",
    "# soyParam[-1]=feedingCosts # to save the right dataset, since initial price is not relevant for soy model\n",
    "\n",
    "\n",
    "soy=Schwartz2Factor(soyParam,t,dtype=dtype)\n",
    "salmon=Schwartz2Factor(salmonParam,t,dtype=dtype)\n",
    "\n",
    "\n",
    "from Harvest import Harvest\n",
    "hc = harvestingCosts\n",
    "harvest = Harvest(hc)\n",
    "\n",
    "from Growth import Bertalanffy\n",
    "wInf=6\n",
    "a=1.113\n",
    "b=1.097\n",
    "c=1.43\n",
    "growth = Bertalanffy(t,wInf,a,b,c)\n",
    "\n",
    "from Price import Price\n",
    "price = Price(salmon)\n",
    "\n",
    "from Feed import StochFeed,DetermFeed\n",
    "cr=1.1\n",
    "fc=feedingCosts\n",
    "# feed = StochFeed(fc,cr,r,t,soy)\n",
    "feed = DetermFeed(fc,cr,r,t,soy)\n",
    "\n",
    "from Mortality import ConstMortatlity\n",
    "n0=10000\n",
    "m=0.1\n",
    "mort = ConstMortatlity(t,n0,m)\n",
    "\n",
    "from FishFarm import fishFarm\n",
    "farm = fishFarm(growth,feed,price,harvest,mort,stride=Nsim,seed=seed)\n"
   ]
  },
  {
   "cell_type": "code",
   "execution_count": 2,
   "metadata": {},
   "outputs": [
    {
     "name": "stdout",
     "output_type": "stream",
     "text": [
      "(81920,)\n",
      "Mean stopping time 2.502999782562256 with mean value 2438676.0 in 2.4633688926696777 s\n"
     ]
    }
   ],
   "source": [
    "farm.seed(seed)\n",
    "\n",
    "batch_size=2**12\n",
    "batches=20\n",
    "gen = farm.generateFishFarm\n",
    "\n",
    "from OptimalStopping import Polynomial,DeepOptS,LSMC\n",
    "basis = Polynomial(deg=2,dtype=dtype)\n",
    "opt=LSMC(r,farm.tCoarse,gen,basis,batch_size=batch_size)\n",
    "\n",
    "\n",
    "opt.train(batches)\n",
    "\n",
    "farm.seed(seed+1)\n",
    "tic=time.time()\n",
    "tau,Vtau=opt.evaluate(batches)\n",
    "ctimeEval=time.time()-tic\n",
    "\n",
    "print(tau.shape)\n",
    "print(f'Mean stopping time {np.mean(tau)} with mean value {np.mean(Vtau)} in {ctimeEval} s')"
   ]
  },
  {
   "cell_type": "code",
   "execution_count": 3,
   "metadata": {},
   "outputs": [
    {
     "name": "stderr",
     "output_type": "stream",
     "text": [
      "100%|██████████| 3002/3002 [02:49<00:00, 17.69epoch/s, loss=-2.44e+6, payoff=2.44e+6]\n"
     ]
    },
    {
     "name": "stdout",
     "output_type": "stream",
     "text": [
      "(81920, 1)\n",
      "Mean stopping time 2.497912645339966 with mean value 2439081.25 in 0.554349422454834 s\n"
     ]
    }
   ],
   "source": [
    "farm.seed(seed)\n",
    "\n",
    "batch_size=2**12\n",
    "batches=20\n",
    "gen = farm.generateFishFarm\n",
    "\n",
    "from OptimalStopping import Polynomial,DeepOptS,LSMC\n",
    "\n",
    "opt=DeepOptS(r,farm.tCoarse,gen,d=farm.d,batch_size=batch_size)\n",
    "\n",
    "opt.train(batches)\n",
    "\n",
    "farm.seed(seed+1)\n",
    "tic=time.time()\n",
    "tau,Vtau=opt.evaluate(batches)\n",
    "ctimeEval=time.time()-tic\n",
    "\n",
    "print(tau.shape)\n",
    "print(f'Mean stopping time {np.mean(tau)} with mean value {np.mean(Vtau)} in {ctimeEval} s')"
   ]
  }
 ],
 "metadata": {
  "kernelspec": {
   "display_name": "intelpython310",
   "language": "python",
   "name": "python3"
  },
  "language_info": {
   "codemirror_mode": {
    "name": "ipython",
    "version": 3
   },
   "file_extension": ".py",
   "mimetype": "text/x-python",
   "name": "python",
   "nbconvert_exporter": "python",
   "pygments_lexer": "ipython3",
   "version": "3.10.8"
  },
  "orig_nbformat": 4
 },
 "nbformat": 4,
 "nbformat_minor": 2
}
