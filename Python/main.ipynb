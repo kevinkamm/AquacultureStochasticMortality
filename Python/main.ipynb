{
 "cells": [
  {
   "cell_type": "code",
   "execution_count": 1,
   "metadata": {},
   "outputs": [
    {
     "name": "stdout",
     "output_type": "stream",
     "text": [
      "Feeding costs 11.875 and Harvesting costs 4.75\n"
     ]
    },
    {
     "name": "stderr",
     "output_type": "stream",
     "text": [
      "c:\\ProgramData\\Anaconda3\\envs\\intelpython310\\lib\\site-packages\\tqdm\\auto.py:22: TqdmWarning: IProgress not found. Please update jupyter and ipywidgets. See https://ipywidgets.readthedocs.io/en/stable/user_install.html\n",
      "  from .autonotebook import tqdm as notebook_tqdm\n"
     ]
    }
   ],
   "source": [
    "import time\n",
    "import os\n",
    "import numpy as np\n",
    "import tensorflow as tf\n",
    "\n",
    "os.environ['TF_CPP_MIN_LOG_LEVEL'] = '3' # disable infos\n",
    "os.environ[\"TF_ENABLE_ONEDNN_OPTS\"]=\"1\" # make sure onednn is used on CPU\n",
    "# tf.config.set_visible_devices([], 'GPU') # GPU improves c-times much\n",
    "\n",
    "T=3.0\n",
    "N=int(T*2*12)\n",
    "Nsim = 10\n",
    "# N=int(T*4*12) # no real difference\n",
    "# Nsim = 5\n",
    "r=0.0303\n",
    "dtype=np.float32\n",
    "seed=1\n",
    "tf.random.set_seed(seed)\n",
    "\n",
    "t=np.linspace(0,T,N*Nsim,endpoint=True,dtype=dtype).reshape((-1,1))\n",
    "t=tf.constant(t)\n",
    "\n",
    "from Commodities import Schwartz2Factor\n",
    "'Salmon'\n",
    "# mu, sigma1, sigma2, kappa, alpha, lambda, rho, delta0, P0\n",
    "# salmonParam=[0.12, 0.23, 0.75, 2.6, 0.02, 0.01, 0.9, 0.57, 95] # down,down\n",
    "salmonParam=[0.12, 0.23, 0.75, 2.6, 0.02, 0.2, 0.9, 0.57, 95] # down,up\n",
    "# salmonParam=[0.12, 0.23, 0.75, 2.6, 0.02, 0.6, 0.9, 0.57, 95] # up,up\n",
    "\n",
    "'Soy'\n",
    "# mu, sigma1, sigma2, kappa, alpha, lambda, rho, delta0, P0\n",
    "# soyParam=[0.15, 0.5, 0.4, 1.2, 0.06, 0.14, 0.44, 0.0, 1] # low vol\n",
    "soyParam=[0.15, 1, 0.4, 1.2, 0.06, 0.14, 0.44, 0.0, 1] # medium vol\n",
    "# soyParam=[0.15, 2, 0.4, 1.2, 0.06, 0.14, 0.44, 0.0, 1] # high vol\n",
    "\n",
    "'Risk neutral dynamics'\n",
    "salmonParam[0]=r\n",
    "soyParam[0]=r\n",
    "\n",
    "\"Fish feeding 25% of production cost, disease 30%, harvest 10%. Total production cost = 50% of price = labor, smolt, ...\"\n",
    "salmonPrice=salmonParam[-1] #NOK/KG\n",
    "harvestingCosts=salmonPrice*0.5*0.1 # roughly 10%\n",
    "feedingCosts=salmonPrice*0.5*0.25\n",
    "initialSalmon=0.5*salmonPrice+feedingCosts+harvestingCosts #we add the costs to salmon price since they are respected in the model, other costs are fixed and thus removed\n",
    "salmonParam[-1]=initialSalmon\n",
    "print(f'Feeding costs {feedingCosts} and Harvesting costs {harvestingCosts}')\n",
    "\n",
    "\n",
    "soy=Schwartz2Factor(soyParam,t,dtype=dtype)\n",
    "salmon=Schwartz2Factor(salmonParam,t,dtype=dtype)\n",
    "\n",
    "\n",
    "from Harvest import Harvest\n",
    "hc = harvestingCosts\n",
    "harvest = Harvest(hc)\n",
    "\n",
    "from Growth import Bertalanffy\n",
    "wInf=6\n",
    "a=1.113\n",
    "b=1.097\n",
    "c=1.43\n",
    "growth = Bertalanffy(t,wInf,a,b,c)\n",
    "\n",
    "from Price import Price\n",
    "price = Price(salmon)\n",
    "\n",
    "from Feed import StochFeed,DetermFeed\n",
    "cr=1.1\n",
    "fc=feedingCosts\n",
    "feed_s = StochFeed(fc,cr,r,t,soy)\n",
    "feed_d = DetermFeed(fc,cr,r,t,soy)\n",
    "\n",
    "from Mortality import ConstMortatlity,HostParasite,DetermHostParasite,Poisson,DetermPoisson\n",
    "# n0=10000\n",
    "# m=0.1\n",
    "# mort = ConstMortatlity(t,n0,m) # not comparable to the other models, because of neglected treatment costs\n",
    "\n",
    "params=[0.05,0.1,8.71,0.05]\n",
    "beta=[0.0835,0.0244]\n",
    "H0=10000.0\n",
    "P0=1\n",
    "tData=np.array([0.018868,0.037736,0.056604,0.075472,0.09434,0.11321,0.13208,0.15094,0.16981,0.18868,0.20755,0.22642,0.24528,0.26415,0.28302,0.30189,0.32075,0.33962,0.35849,0.37736,0.39623,0.41509,0.43396,0.45283,0.4717,0.49057,0.50943,0.5283,0.54717,0.56604,0.58491,0.60377,0.62264,0.64151,0.66038,0.67925,0.69811,0.71698,0.73585,0.75472,0.77358,0.79245,0.81132,0.83019,0.84906,0.86792,0.88679,0.90566,0.92453,0.9434,0.96226,0.98113,1,1.0189,1.0377,1.0755,1.0943,1.1132,1.1321,1.1509,1.1698,1.1887,1.2075,1.2264,1.2453,1.2642,1.283,1.3019,1.3208,1.3396,1.3585,1.3774,1.3962,1.4151,1.434,1.4528,1.4717,1.4906,1.5094,1.5283,1.5472,1.566,1.5849,1.6038\n",
    "],dtype=np.float32).reshape((-1,))\n",
    "dm=np.array([0.45003,0,0.45003,0,0,0.90005,0,0,1.3501,0.90005,1.8001,1.3501,1.8001,2.2501,3.1502,1.8001,1.8001,2.7002,2.2501,2.2501,2.7002,1.8001,3.1502,3.1502,3.1502,5.8503,5.8503,6.7504,4.9503,6.3004,4.0502,7.2004,7.6504,8.5505,9.0005,9.9006,11.701,12.601,11.701,13.951,14.401,13.051,12.601,14.401,12.601,11.251,14.401,13.951,16.201,13.501,13.501,13.501,13.501,13.501,13.501,13.501,13.501,13.501,13.501,13.501,13.501,13.501,13.501,13.501,13.501,13.501,13.501,13.501,13.501,13.501,13.501,13.501,13.501,13.501,13.501,13.501,13.501,13.501,13.501,13.501,13.501,13.501,13.501\n",
    "],dtype=np.float32).reshape((-1,))\n",
    "\n",
    "# mort_s = HostParasite(t,params,beta,H0,P0)\n",
    "# mort_d = DetermHostParasite(t,params,beta,H0,P0)\n",
    "\n",
    "mort_s = Poisson(H0,params[0],t,tData[1:],dm)\n",
    "mort_d = DetermPoisson(H0,params[0],t,tData[1:],dm)\n",
    "\n",
    "from FishFarm import fishFarm\n",
    "farm_ss = fishFarm(growth,feed_s,price,harvest,mort_s,stride=Nsim,seed=seed)\n",
    "farm_sd = fishFarm(growth,feed_s,price,harvest,mort_d,stride=Nsim,seed=seed)\n",
    "farm_ds = fishFarm(growth,feed_d,price,harvest,mort_s,stride=Nsim,seed=seed)\n",
    "farm_dd = fishFarm(growth,feed_d,price,harvest,mort_d,stride=Nsim,seed=seed)\n",
    "\n",
    "from OptimalStopping import Polynomial,DeepOptS,LSMC\n",
    "batch_size=2**12 #need to fix it for simplicity\n",
    "batches=20 # not so relevant since we make pathwise comparison, only relevant for value of opt stopping"
   ]
  },
  {
   "cell_type": "code",
   "execution_count": 2,
   "metadata": {},
   "outputs": [
    {
     "name": "stdout",
     "output_type": "stream",
     "text": [
      "(73, 81920, 5)\n"
     ]
    }
   ],
   "source": [
    "farm_ss.seed(seed)\n",
    "tf.random.set_seed(seed)\n",
    "X_ss,V_ss,Vh_ss,ft_ss = farm_ss.generateFishFarm(batch_size*batches) # make sure to evaluate on same data and compiles all code for generating data\n",
    "X_ss=np.array(X_ss)\n",
    "V_ss=np.array(V_ss)\n",
    "Vh_ss=np.array(Vh_ss)\n",
    "ft_ss=np.array(ft_ss)\n",
    "print(X_ss.shape)"
   ]
  },
  {
   "cell_type": "code",
   "execution_count": 3,
   "metadata": {},
   "outputs": [
    {
     "name": "stdout",
     "output_type": "stream",
     "text": [
      "(73, 81920, 4)\n"
     ]
    }
   ],
   "source": [
    "farm_sd.seed(seed)\n",
    "tf.random.set_seed(seed)\n",
    "X_sd,V_sd,Vh_sd,ft_sd = farm_sd.generateFishFarm(batch_size*batches) # make sure to evaluate on same data and compiles all code for generating data\n",
    "X_sd=np.array(X_sd)\n",
    "V_sd=np.array(V_sd)\n",
    "Vh_sd=np.array(Vh_sd)\n",
    "ft_sd=np.array(ft_sd)\n",
    "print(X_sd.shape)"
   ]
  },
  {
   "cell_type": "code",
   "execution_count": 4,
   "metadata": {},
   "outputs": [
    {
     "name": "stdout",
     "output_type": "stream",
     "text": [
      "WARNING:tensorflow:5 out of the last 5 calls to <function Schwartz2Factor.brownianMotionTF at 0x0000020822AA9480> triggered tf.function retracing. Tracing is expensive and the excessive number of tracings could be due to (1) creating @tf.function repeatedly in a loop, (2) passing tensors with different shapes, (3) passing Python objects instead of tensors. For (1), please define your @tf.function outside of the loop. For (2), @tf.function has experimental_relax_shapes=True option that relaxes argument shapes that can avoid unnecessary retracing. For (3), please refer to https://www.tensorflow.org/guide/function#controlling_retracing and https://www.tensorflow.org/api_docs/python/tf/function for  more details.\n",
      "WARNING:tensorflow:6 out of the last 6 calls to <function Schwartz2Factor.brownianMotionTF at 0x0000020822AA9480> triggered tf.function retracing. Tracing is expensive and the excessive number of tracings could be due to (1) creating @tf.function repeatedly in a loop, (2) passing tensors with different shapes, (3) passing Python objects instead of tensors. For (1), please define your @tf.function outside of the loop. For (2), @tf.function has experimental_relax_shapes=True option that relaxes argument shapes that can avoid unnecessary retracing. For (3), please refer to https://www.tensorflow.org/guide/function#controlling_retracing and https://www.tensorflow.org/api_docs/python/tf/function for  more details.\n",
      "(73, 81920, 3)\n"
     ]
    }
   ],
   "source": [
    "farm_ds.seed(seed)\n",
    "tf.random.set_seed(seed)\n",
    "X_ds,V_ds,Vh_ds,ft_ds = farm_ds.generateFishFarm(batch_size*batches) # make sure to evaluate on same data and compiles all code for generating data\n",
    "X_ds=np.array(X_ds)\n",
    "V_ds=np.array(V_ds)\n",
    "Vh_ds=np.array(Vh_ds)\n",
    "ft_ds=np.array(ft_ds)\n",
    "print(X_ds.shape)"
   ]
  },
  {
   "cell_type": "code",
   "execution_count": 5,
   "metadata": {},
   "outputs": [
    {
     "name": "stdout",
     "output_type": "stream",
     "text": [
      "(73, 81920, 2)\n"
     ]
    }
   ],
   "source": [
    "farm_dd.seed(seed)\n",
    "tf.random.set_seed(seed)\n",
    "X_dd,V_dd,Vh_dd,ft_dd = farm_dd.generateFishFarm(batch_size*batches) # make sure to evaluate on same data and compiles all code for generating data\n",
    "X_dd=np.array(X_dd)\n",
    "V_dd=np.array(V_dd)\n",
    "Vh_dd=np.array(Vh_dd)\n",
    "ft_dd=np.array(ft_dd)\n",
    "print(X_dd.shape)"
   ]
  },
  {
   "cell_type": "code",
   "execution_count": 6,
   "metadata": {},
   "outputs": [
    {
     "name": "stderr",
     "output_type": "stream",
     "text": [
      "100%|██████████| 1505/1505 [00:39<00:00, 38.33epoch/s, loss=-1.82e+6, payoff=1.83e+6]\n"
     ]
    },
    {
     "name": "stdout",
     "output_type": "stream",
     "text": [
      "Mean stopping time 1.9955343008041382 with mean value 1853448.375 in 0.7734785079956055 s\n"
     ]
    }
   ],
   "source": [
    "batches=20\n",
    "farm_ss.seed(seed+1)\n",
    "tf.random.set_seed(seed+1)\n",
    "optDeep_ss=DeepOptS(r,farm_ss.tCoarse,farm_ss.generateFishFarm,d=farm_ss.d,batch_size=batch_size)\n",
    "optDeep_ss.train(batches)\n",
    "\n",
    "tic=time.time()\n",
    "tauDOS_ss,VtauDOS_ss=optDeep_ss.evaluate(X_ss,V_ss,Vh_ss,ft_ss)\n",
    "ctimeEval=time.time()-tic\n",
    "print(f'Mean stopping time {np.mean(tauDOS_ss)} with mean value {np.mean(VtauDOS_ss)} in {ctimeEval} s')\n"
   ]
  },
  {
   "cell_type": "code",
   "execution_count": 7,
   "metadata": {},
   "outputs": [
    {
     "name": "stderr",
     "output_type": "stream",
     "text": [
      "100%|██████████| 1504/1504 [00:36<00:00, 40.81epoch/s, loss=-1.84e+6, payoff=1.86e+6]\n"
     ]
    },
    {
     "name": "stdout",
     "output_type": "stream",
     "text": [
      "Mean stopping time 1.9950603246688843 with mean value 1851597.625 in 0.6857280731201172 s\n"
     ]
    }
   ],
   "source": [
    "batches=20\n",
    "farm_sd.seed(seed+1)\n",
    "tf.random.set_seed(seed+1)\n",
    "optDeep_sd=DeepOptS(r,farm_sd.tCoarse,farm_sd.generateFishFarm,d=farm_sd.d,batch_size=batch_size)\n",
    "optDeep_sd.train(batches)\n",
    "\n",
    "tic=time.time()\n",
    "tauDOS_sd,VtauDOS_sd=optDeep_sd.evaluate(X_sd,V_sd,Vh_sd,ft_sd)\n",
    "ctimeEval=time.time()-tic\n",
    "print(f'Mean stopping time {np.mean(tauDOS_sd)} with mean value {np.mean(VtauDOS_sd)} in {ctimeEval} s')\n"
   ]
  },
  {
   "cell_type": "code",
   "execution_count": 8,
   "metadata": {},
   "outputs": [
    {
     "name": "stderr",
     "output_type": "stream",
     "text": [
      "100%|██████████| 1503/1503 [00:36<00:00, 41.68epoch/s, loss=-1.76e+6, payoff=1.78e+6]\n"
     ]
    },
    {
     "name": "stdout",
     "output_type": "stream",
     "text": [
      "Mean stopping time 2.0126702785491943 with mean value 1775888.375 in 0.6386551856994629 s\n"
     ]
    }
   ],
   "source": [
    "batches=20\n",
    "farm_ds.seed(seed+1)\n",
    "tf.random.set_seed(seed+1)\n",
    "optDeep_ds=DeepOptS(r,farm_ds.tCoarse,farm_ds.generateFishFarm,d=farm_ds.d,batch_size=batch_size)\n",
    "optDeep_ds.train(batches)\n",
    "\n",
    "tic=time.time()\n",
    "tauDOS_ds,VtauDOS_ds=optDeep_ds.evaluate(X_ds,V_ds,Vh_ds,ft_ds)\n",
    "ctimeEval=time.time()-tic\n",
    "print(f'Mean stopping time {np.mean(tauDOS_ds)} with mean value {np.mean(VtauDOS_ds)} in {ctimeEval} s')\n"
   ]
  },
  {
   "cell_type": "code",
   "execution_count": 9,
   "metadata": {},
   "outputs": [
    {
     "name": "stderr",
     "output_type": "stream",
     "text": [
      "100%|██████████| 1502/1502 [00:35<00:00, 42.12epoch/s, loss=-1.77e+6, payoff=1.78e+6]\n"
     ]
    },
    {
     "name": "stdout",
     "output_type": "stream",
     "text": [
      "Mean stopping time 2.0132946968078613 with mean value 1774878.625 in 0.802405595779419 s\n"
     ]
    }
   ],
   "source": [
    "batches=20\n",
    "farm_dd.seed(seed+1)\n",
    "tf.random.set_seed(seed+1)\n",
    "optDeep_dd=DeepOptS(r,farm_dd.tCoarse,farm_dd.generateFishFarm,d=farm_dd.d,batch_size=batch_size)\n",
    "optDeep_dd.train(batches)\n",
    "\n",
    "tic=time.time()\n",
    "tauDOS_dd,VtauDOS_dd=optDeep_dd.evaluate(X_dd,V_dd,Vh_dd,ft_dd)\n",
    "ctimeEval=time.time()-tic\n",
    "print(f'Mean stopping time {np.mean(tauDOS_dd)} with mean value {np.mean(VtauDOS_dd)} in {ctimeEval} s')\n"
   ]
  },
  {
   "cell_type": "code",
   "execution_count": 10,
   "metadata": {},
   "outputs": [
    {
     "name": "stdout",
     "output_type": "stream",
     "text": [
      "Mean tau: [1.99576569] with mean 1853448.260582251 with ratio 1.0\n",
      "Mean tau: [1.99528198] with mean 1852796.9639056264 with ratio 1.0003515208030413\n",
      "Mean tau: [2.01292782] with mean 1774826.5387895578 with ratio 1.0442982568010921\n",
      "Mean tau: [2.01354599] with mean 1775671.1964070038 with ratio 1.043801501276039\n"
     ]
    }
   ],
   "source": [
    "tComp,Vcomp = fishFarm.compareStoppingTimes(V_ss,[tauDOS_ss,tauDOS_sd,tauDOS_ds,tauDOS_dd],np.array(farm_ss.tCoarse))\n",
    "for i in range(0,len(tComp)):\n",
    "    print(f'Mean tau: {tComp[i]} with mean {Vcomp[i]} with ratio {Vcomp[0]/Vcomp[i]}')"
   ]
  },
  {
   "cell_type": "code",
   "execution_count": 11,
   "metadata": {},
   "outputs": [
    {
     "name": "stdout",
     "output_type": "stream",
     "text": [
      "Mean stopping time 1.9033982753753662 with mean value 1797268.75 in 4.57716178894043 s\n",
      "Mean stopping time 2.0163073539733887 with mean value 1854217.625 in 1.8736324310302734 s\n",
      "Mean stopping time 1.9186818599700928 with mean value 1723210.0 in 1.6168360710144043 s\n",
      "Mean stopping time 2.0413870811462402 with mean value 1785429.625 in 1.8593790531158447 s\n"
     ]
    }
   ],
   "source": [
    "basis_ss = Polynomial(deg=2,dtype=dtype)\n",
    "basis_sd = Polynomial(deg=2,dtype=dtype)\n",
    "basis_ds = Polynomial(deg=2,dtype=dtype)\n",
    "basis_dd = Polynomial(deg=2,dtype=dtype)\n",
    "optLSMC_ss=LSMC(r,farm_ss.tCoarse,farm_ss.generateFishFarm,basis_ss,batch_size=batch_size)\n",
    "optLSMC_sd=LSMC(r,farm_sd.tCoarse,farm_sd.generateFishFarm,basis_sd,batch_size=batch_size)\n",
    "optLSMC_ds=LSMC(r,farm_ds.tCoarse,farm_ds.generateFishFarm,basis_ds,batch_size=batch_size)\n",
    "optLSMC_dd=LSMC(r,farm_dd.tCoarse,farm_dd.generateFishFarm,basis_dd,batch_size=batch_size)\n",
    "\n",
    "tic=time.time()\n",
    "tau_ss,Vtau_ss=optLSMC_ss.evaluate(X_ss,V_ss,Vh_ss,ft_ss)\n",
    "ctimeEval=time.time()-tic\n",
    "print(f'Mean stopping time {np.mean(tau_ss)} with mean value {np.mean(Vtau_ss)} in {ctimeEval} s')\n",
    "\n",
    "tic=time.time()\n",
    "tau_sd,Vtau_sd=optLSMC_sd.evaluate(X_sd,V_sd,Vh_sd,ft_sd)\n",
    "ctimeEval=time.time()-tic\n",
    "print(f'Mean stopping time {np.mean(tau_sd)} with mean value {np.mean(Vtau_sd)} in {ctimeEval} s')\n",
    "\n",
    "tic=time.time()\n",
    "tau_ds,Vtau_ds=optLSMC_ds.evaluate(X_ds,V_ds,Vh_ds,ft_ds)\n",
    "ctimeEval=time.time()-tic\n",
    "print(f'Mean stopping time {np.mean(tau_ds)} with mean value {np.mean(Vtau_ds)} in {ctimeEval} s')\n",
    "\n",
    "tic=time.time()\n",
    "tau_dd,Vtau_dd=optLSMC_dd.evaluate(X_dd,V_dd,Vh_dd,ft_dd)\n",
    "ctimeEval=time.time()-tic\n",
    "print(f'Mean stopping time {np.mean(tau_dd)} with mean value {np.mean(Vtau_dd)} in {ctimeEval} s')"
   ]
  },
  {
   "cell_type": "code",
   "execution_count": 12,
   "metadata": {},
   "outputs": [
    {
     "name": "stdout",
     "output_type": "stream",
     "text": [
      "Mean tau: 1.9033984124580456 with mean 1797268.9531140446 with ratio 1.0\n",
      "Mean tau: 2.0163075096623286 with mean 1855452.202094221 with ratio 0.9686420114112851\n",
      "Mean tau: 1.9186819893213396 with mean 1723198.2783138275 with ratio 1.042984417830719\n",
      "Mean tau: 2.041387101366854 with mean 1786460.3587043763 with ratio 1.0060502850550277\n"
     ]
    }
   ],
   "source": [
    "tComp,Vcomp = fishFarm.compareStoppingTimes(V_ss,[tau_ss,tau_sd,tau_ds,tau_dd],np.array(farm_ss.tCoarse))\n",
    "for i in range(0,len(tComp)):\n",
    "    print(f'Mean tau: {tComp[i]} with mean {Vcomp[i]} with ratio {Vcomp[0]/Vcomp[i]}')"
   ]
  }
 ],
 "metadata": {
  "kernelspec": {
   "display_name": "intelpython310",
   "language": "python",
   "name": "python3"
  },
  "language_info": {
   "codemirror_mode": {
    "name": "ipython",
    "version": 3
   },
   "file_extension": ".py",
   "mimetype": "text/x-python",
   "name": "python",
   "nbconvert_exporter": "python",
   "pygments_lexer": "ipython3",
   "version": "3.10.8"
  },
  "orig_nbformat": 4
 },
 "nbformat": 4,
 "nbformat_minor": 2
}
