{
 "cells": [
  {
   "cell_type": "code",
   "execution_count": 1,
   "metadata": {},
   "outputs": [
    {
     "name": "stdout",
     "output_type": "stream",
     "text": [
      "Feeding costs 11.875 and Harvesting costs 4.75\n"
     ]
    },
    {
     "name": "stderr",
     "output_type": "stream",
     "text": [
      "c:\\ProgramData\\Anaconda3\\envs\\intelpython310\\lib\\site-packages\\tqdm\\auto.py:22: TqdmWarning: IProgress not found. Please update jupyter and ipywidgets. See https://ipywidgets.readthedocs.io/en/stable/user_install.html\n",
      "  from .autonotebook import tqdm as notebook_tqdm\n"
     ]
    }
   ],
   "source": [
    "import time\n",
    "import os\n",
    "import numpy as np\n",
    "import tensorflow as tf\n",
    "\n",
    "os.environ['TF_CPP_MIN_LOG_LEVEL'] = '3' # disable infos\n",
    "os.environ[\"TF_ENABLE_ONEDNN_OPTS\"]=\"1\" # make sure onednn is used on CPU\n",
    "# tf.config.set_visible_devices([], 'GPU') # GPU improves c-times much\n",
    "\n",
    "T=3.0\n",
    "N=int(T*2*12)\n",
    "Nsim = 10\n",
    "# N=int(T*4*12) # no real difference\n",
    "# Nsim = 5\n",
    "r=0.0303\n",
    "dtype=np.float32\n",
    "seed=1\n",
    "tf.random.set_seed(seed)\n",
    "\n",
    "t=np.linspace(0,T,N*Nsim,endpoint=True,dtype=dtype).reshape((-1,1))\n",
    "t=tf.constant(t)\n",
    "\n",
    "from Commodities import Schwartz2Factor\n",
    "'Salmon'\n",
    "# mu, sigma1, sigma2, kappa, alpha, lambda, rho, delta0, P0\n",
    "# salmonParam=[0.12, 0.23, 0.75, 2.6, 0.02, 0.01, 0.9, 0.57, 95] # down,down\n",
    "salmonParam=[0.12, 0.23, 0.75, 2.6, 0.02, 0.2, 0.9, 0.57, 95] # down,up\n",
    "# salmonParam=[0.12, 0.23, 0.75, 2.6, 0.02, 0.6, 0.9, 0.57, 95] # up,up\n",
    "\n",
    "'Soy'\n",
    "# mu, sigma1, sigma2, kappa, alpha, lambda, rho, delta0, P0\n",
    "# soyParam=[0.15, 0.5, 0.4, 1.2, 0.06, 0.14, 0.44, 0.0, 1] # low vol\n",
    "soyParam=[0.15, 1, 0.4, 1.2, 0.06, 0.14, 0.44, 0.0, 1] # medium vol\n",
    "# soyParam=[0.15, 2, 0.4, 1.2, 0.06, 0.14, 0.44, 0.0, 1] # high vol\n",
    "\n",
    "'Risk neutral dynamics'\n",
    "salmonParam[0]=r\n",
    "soyParam[0]=r\n",
    "\n",
    "\"Fish feeding 25% of production cost, disease 30%, harvest 10%. Total production cost = 50% of price = labor, smolt, ...\"\n",
    "salmonPrice=salmonParam[-1] #NOK/KG\n",
    "productionCosts=salmonPrice*0.5\n",
    "harvestingCosts=productionCosts*0.1 # roughly 10%\n",
    "feedingCosts=productionCosts*0.25\n",
    "biologicalCosts=productionCosts*0.3\n",
    "initialSalmon=(salmonPrice-productionCosts)+feedingCosts+harvestingCosts+biologicalCosts #we add the costs to salmon price since they are respected in the model, other costs are fixed and thus removed\n",
    "salmonParam[-1]=initialSalmon\n",
    "print(f'Feeding costs {feedingCosts} and Harvesting costs {harvestingCosts}')\n",
    "\n",
    "\n",
    "soy=Schwartz2Factor(soyParam,t,dtype=dtype)\n",
    "salmon=Schwartz2Factor(salmonParam,t,dtype=dtype)\n",
    "\n",
    "\n",
    "from Harvest import Harvest\n",
    "hc = harvestingCosts\n",
    "harvest = Harvest(hc)\n",
    "\n",
    "from Growth import Bertalanffy\n",
    "wInf=6\n",
    "a=1.113\n",
    "b=1.097\n",
    "c=1.43\n",
    "growth = Bertalanffy(t,wInf,a,b,c)\n",
    "\n",
    "from Price import Price\n",
    "price = Price(salmon)\n",
    "\n",
    "from Feed import StochFeed,DetermFeed\n",
    "cr=1.1\n",
    "fc=feedingCosts\n",
    "feed_s = StochFeed(fc,cr,r,t,soy)\n",
    "feed_d = DetermFeed(fc,cr,r,t,soy)\n",
    "\n",
    "from Mortality import ConstMortatlity,HostParasite,DetermHostParasite,Poisson,DetermPoisson\n",
    "# n0=10000\n",
    "# m=0.1\n",
    "# mort = ConstMortatlity(t,n0,m) # not comparable to the other models, because of neglected treatment costs\n",
    "\n",
    "params=[0.05,0.1,7.01,0.05]\n",
    "beta=[0.0829,0.0281]\n",
    "H0=10000.0\n",
    "P0=10\n",
    "treatmentCosts=0.015 #0.015 is baseline\n",
    "tData=np.array([0.018868,0.037736,0.056604,0.075472,0.09434,0.11321,0.13208,0.15094,0.16981,0.18868,0.20755,0.22642,0.24528,0.26415,0.28302,0.30189,0.32075,0.33962,0.35849,0.37736,0.39623,0.41509,0.43396,0.45283,0.4717,0.49057,0.50943,0.5283,0.54717,0.56604,0.58491,0.60377,0.62264,0.64151,0.66038,0.67925,0.69811,0.71698,0.73585,0.75472,0.77358,0.79245,0.81132,0.83019,0.84906,0.86792,0.88679,0.90566,0.92453,0.9434,0.96226,0.98113,1,1.0189,1.0377,1.0566,1.0755,1.0943,1.1132,1.1321,1.1509,1.1698,1.1887,1.2075,1.2453,1.2642,1.283,1.3019,1.3208,1.3396,1.3585,1.3774,1.3962,1.4151,1.434,1.4528,1.4717,1.4906,1.5094,1.5283,1.5472,1.566,1.5849,1.6038,1.6226,1.6415,1.6604,1.6792,1.6981,1.717,1.7358,1.7547,1.7736\n",
    "],dtype=np.float32).reshape((-1,))\n",
    "dm=np.array([0.0062441,0.0099877,0.015766,0.024537,0.037613,0.056736,0.084146,0.12261,0.1754,0.24623,0.33908,0.45793,0.60649,0.78782,1.004,1.2559,1.5429,1.8628,2.2121,2.5861,2.9792,3.3853,3.798,4.2111,4.6192,5.017,5.4006,5.7665,6.1123,6.4363,6.7376,7.0159,7.2713,7.5045,7.7163,7.908,8.0807,8.2359,8.3748,8.4988,8.6094,8.7077,8.795,8.8723,8.9407,9.0012,9.0546,9.1017,9.1432,9.1798,9.212,9.2403,9.2652,9.287,9.3062,9.3231,9.3379,9.3509,9.3623,9.3723,9.3811,9.3888,9.3956,9.4067,9.4112,9.4152,9.4187,9.4218,9.4245,9.4268,9.4289,9.4307,9.4323,9.4337,9.4349,9.436,9.4369,9.4377,9.4384,9.4391,9.4396,9.4401,9.4405,9.4409,9.4412,9.4415,9.4417,9.442,9.4421,9.4423,9.4425,9.4426\n",
    "],dtype=np.float32).reshape((-1,))\n",
    "\n",
    "mort_s = HostParasite(t,params,beta,H0,P0,treatmentCosts=treatmentCosts)\n",
    "mort_d = DetermHostParasite(t,params,beta,H0,P0,treatmentCosts=treatmentCosts)\n",
    "\n",
    "# mort_s = Poisson(H0,params[0],t,tData[1:],dm,treatmentCosts=treatmentCosts)\n",
    "# mort_d = DetermPoisson(H0,params[0],t,tData[1:],dm,treatmentCosts=treatmentCosts)\n",
    "\n",
    "from FishFarm import fishFarm\n",
    "farm_ss = fishFarm(growth,feed_s,price,harvest,mort_s,stride=Nsim,seed=seed)\n",
    "farm_sd = fishFarm(growth,feed_s,price,harvest,mort_d,stride=Nsim,seed=seed)\n",
    "farm_ds = fishFarm(growth,feed_d,price,harvest,mort_s,stride=Nsim,seed=seed)\n",
    "farm_dd = fishFarm(growth,feed_d,price,harvest,mort_d,stride=Nsim,seed=seed)\n",
    "\n",
    "from OptimalStopping import Polynomial,DeepOptS,LSMC\n",
    "batch_size=2**12 #need to fix it for simplicity\n",
    "batches=20 # not so relevant since we make pathwise comparison, only relevant for value of opt stopping"
   ]
  },
  {
   "cell_type": "code",
   "execution_count": 2,
   "metadata": {},
   "outputs": [
    {
     "name": "stdout",
     "output_type": "stream",
     "text": [
      "(73, 81920, 6)\n"
     ]
    }
   ],
   "source": [
    "farm_ss.seed(seed)\n",
    "tf.random.set_seed(seed)\n",
    "X_ss,V_ss,Vh_ss,ft_ss = farm_ss.generateFishFarm(batch_size*batches) # make sure to evaluate on same data and compiles all code for generating data\n",
    "X_ss=np.array(X_ss)\n",
    "V_ss=np.array(V_ss)\n",
    "Vh_ss=np.array(Vh_ss)\n",
    "ft_ss=np.array(ft_ss)\n",
    "print(X_ss.shape)"
   ]
  },
  {
   "cell_type": "code",
   "execution_count": 3,
   "metadata": {},
   "outputs": [
    {
     "name": "stdout",
     "output_type": "stream",
     "text": [
      "(73, 81920, 4)\n"
     ]
    }
   ],
   "source": [
    "farm_sd.seed(seed)\n",
    "tf.random.set_seed(seed)\n",
    "X_sd,V_sd,Vh_sd,ft_sd = farm_sd.generateFishFarm(batch_size*batches) # make sure to evaluate on same data and compiles all code for generating data\n",
    "X_sd=np.array(X_sd)\n",
    "V_sd=np.array(V_sd)\n",
    "Vh_sd=np.array(Vh_sd)\n",
    "ft_sd=np.array(ft_sd)\n",
    "print(X_sd.shape)"
   ]
  },
  {
   "cell_type": "code",
   "execution_count": 4,
   "metadata": {},
   "outputs": [
    {
     "name": "stdout",
     "output_type": "stream",
     "text": [
      "WARNING:tensorflow:5 out of the last 5 calls to <function Schwartz2Factor.brownianMotionTF at 0x0000017391A35510> triggered tf.function retracing. Tracing is expensive and the excessive number of tracings could be due to (1) creating @tf.function repeatedly in a loop, (2) passing tensors with different shapes, (3) passing Python objects instead of tensors. For (1), please define your @tf.function outside of the loop. For (2), @tf.function has experimental_relax_shapes=True option that relaxes argument shapes that can avoid unnecessary retracing. For (3), please refer to https://www.tensorflow.org/guide/function#controlling_retracing and https://www.tensorflow.org/api_docs/python/tf/function for  more details.\n",
      "WARNING:tensorflow:6 out of the last 6 calls to <function Schwartz2Factor.brownianMotionTF at 0x0000017391A35510> triggered tf.function retracing. Tracing is expensive and the excessive number of tracings could be due to (1) creating @tf.function repeatedly in a loop, (2) passing tensors with different shapes, (3) passing Python objects instead of tensors. For (1), please define your @tf.function outside of the loop. For (2), @tf.function has experimental_relax_shapes=True option that relaxes argument shapes that can avoid unnecessary retracing. For (3), please refer to https://www.tensorflow.org/guide/function#controlling_retracing and https://www.tensorflow.org/api_docs/python/tf/function for  more details.\n",
      "(73, 81920, 4)\n"
     ]
    }
   ],
   "source": [
    "farm_ds.seed(seed)\n",
    "tf.random.set_seed(seed)\n",
    "X_ds,V_ds,Vh_ds,ft_ds = farm_ds.generateFishFarm(batch_size*batches) # make sure to evaluate on same data and compiles all code for generating data\n",
    "X_ds=np.array(X_ds)\n",
    "V_ds=np.array(V_ds)\n",
    "Vh_ds=np.array(Vh_ds)\n",
    "ft_ds=np.array(ft_ds)\n",
    "print(X_ds.shape)"
   ]
  },
  {
   "cell_type": "code",
   "execution_count": 5,
   "metadata": {},
   "outputs": [
    {
     "name": "stdout",
     "output_type": "stream",
     "text": [
      "(73, 81920, 2)\n"
     ]
    }
   ],
   "source": [
    "farm_dd.seed(seed)\n",
    "tf.random.set_seed(seed)\n",
    "X_dd,V_dd,Vh_dd,ft_dd = farm_dd.generateFishFarm(batch_size*batches) # make sure to evaluate on same data and compiles all code for generating data\n",
    "X_dd=np.array(X_dd)\n",
    "V_dd=np.array(V_dd)\n",
    "Vh_dd=np.array(Vh_dd)\n",
    "ft_dd=np.array(ft_dd)\n",
    "print(X_dd.shape)"
   ]
  },
  {
   "cell_type": "code",
   "execution_count": 6,
   "metadata": {},
   "outputs": [
    {
     "name": "stderr",
     "output_type": "stream",
     "text": [
      "100%|██████████| 1506/1506 [01:22<00:00, 18.15epoch/s, loss=-2.49e+6, payoff=2.52e+6]\n"
     ]
    },
    {
     "name": "stdout",
     "output_type": "stream",
     "text": [
      "Mean stopping time 1.9883369207382202 with mean value 2501648.5 in 0.7885222434997559 s\n"
     ]
    }
   ],
   "source": [
    "batches=20\n",
    "farm_ss.seed(seed+1)\n",
    "tf.random.set_seed(seed+1)\n",
    "optDeep_ss=DeepOptS(r,farm_ss.tCoarse,farm_ss.generateFishFarm,d=farm_ss.d,batch_size=batch_size)\n",
    "optDeep_ss.train(batches)\n",
    "\n",
    "tic=time.time()\n",
    "tauDOS_ss,VtauDOS_ss=optDeep_ss.evaluate(X_ss,V_ss,Vh_ss,ft_ss)\n",
    "ctimeEval=time.time()-tic\n",
    "print(f'Mean stopping time {np.mean(tauDOS_ss)} with mean value {np.mean(VtauDOS_ss)} in {ctimeEval} s')\n"
   ]
  },
  {
   "cell_type": "code",
   "execution_count": 7,
   "metadata": {},
   "outputs": [
    {
     "name": "stderr",
     "output_type": "stream",
     "text": [
      "100%|██████████| 1504/1504 [00:45<00:00, 32.92epoch/s, loss=-2.44e+6, payoff=2.47e+6]\n"
     ]
    },
    {
     "name": "stdout",
     "output_type": "stream",
     "text": [
      "Mean stopping time 1.9926927089691162 with mean value 2461948.0 in 0.6856491565704346 s\n"
     ]
    }
   ],
   "source": [
    "batches=20\n",
    "farm_sd.seed(seed+1)\n",
    "tf.random.set_seed(seed+1)\n",
    "optDeep_sd=DeepOptS(r,farm_sd.tCoarse,farm_sd.generateFishFarm,d=farm_sd.d,batch_size=batch_size)\n",
    "optDeep_sd.train(batches)\n",
    "\n",
    "tic=time.time()\n",
    "tauDOS_sd,VtauDOS_sd=optDeep_sd.evaluate(X_sd,V_sd,Vh_sd,ft_sd)\n",
    "ctimeEval=time.time()-tic\n",
    "print(f'Mean stopping time {np.mean(tauDOS_sd)} with mean value {np.mean(VtauDOS_sd)} in {ctimeEval} s')\n"
   ]
  },
  {
   "cell_type": "code",
   "execution_count": 8,
   "metadata": {},
   "outputs": [
    {
     "name": "stderr",
     "output_type": "stream",
     "text": [
      "100%|██████████| 1504/1504 [00:45<00:00, 33.18epoch/s, loss=-2.42e+6, payoff=2.45e+6]\n"
     ]
    },
    {
     "name": "stdout",
     "output_type": "stream",
     "text": [
      "Mean stopping time 2.0060033798217773 with mean value 2442247.75 in 0.6889743804931641 s\n"
     ]
    }
   ],
   "source": [
    "batches=20\n",
    "farm_ds.seed(seed+1)\n",
    "tf.random.set_seed(seed+1)\n",
    "optDeep_ds=DeepOptS(r,farm_ds.tCoarse,farm_ds.generateFishFarm,d=farm_ds.d,batch_size=batch_size)\n",
    "optDeep_ds.train(batches)\n",
    "\n",
    "tic=time.time()\n",
    "tauDOS_ds,VtauDOS_ds=optDeep_ds.evaluate(X_ds,V_ds,Vh_ds,ft_ds)\n",
    "ctimeEval=time.time()-tic\n",
    "print(f'Mean stopping time {np.mean(tauDOS_ds)} with mean value {np.mean(VtauDOS_ds)} in {ctimeEval} s')\n"
   ]
  },
  {
   "cell_type": "code",
   "execution_count": 9,
   "metadata": {},
   "outputs": [
    {
     "name": "stderr",
     "output_type": "stream",
     "text": [
      "100%|██████████| 1502/1502 [00:42<00:00, 35.04epoch/s, loss=-2.38e+6, payoff=2.41e+6]\n"
     ]
    },
    {
     "name": "stdout",
     "output_type": "stream",
     "text": [
      "Mean stopping time 2.0051918029785156 with mean value 2401190.25 in 0.5753045082092285 s\n"
     ]
    }
   ],
   "source": [
    "batches=20\n",
    "farm_dd.seed(seed+1)\n",
    "tf.random.set_seed(seed+1)\n",
    "optDeep_dd=DeepOptS(r,farm_dd.tCoarse,farm_dd.generateFishFarm,d=farm_dd.d,batch_size=batch_size)\n",
    "optDeep_dd.train(batches)\n",
    "\n",
    "tic=time.time()\n",
    "tauDOS_dd,VtauDOS_dd=optDeep_dd.evaluate(X_dd,V_dd,Vh_dd,ft_dd)\n",
    "ctimeEval=time.time()-tic\n",
    "print(f'Mean stopping time {np.mean(tauDOS_dd)} with mean value {np.mean(VtauDOS_dd)} in {ctimeEval} s')\n"
   ]
  },
  {
   "cell_type": "code",
   "execution_count": 10,
   "metadata": {},
   "outputs": [
    {
     "name": "stdout",
     "output_type": "stream",
     "text": [
      "Stoch Feeding and Stoch Mortality as baseline\n",
      "Mean tau: [1.98858566] with mean 2501648.6610439555 with ratio 1.0\n",
      "Mean tau: [1.99294052] with mean 2466925.7420805916 with ratio 1.0140753806938991\n",
      "Mean tau: [2.00627022] with mean 2441185.4388775853 with ratio 1.0247679759199981\n",
      "Mean tau: [2.00545406] with mean 2405409.703965217 with ratio 1.0400093825680061\n"
     ]
    }
   ],
   "source": [
    "print('Stoch Feeding and Stoch Mortality as baseline')\n",
    "tComp,Vcomp = fishFarm.compareStoppingTimes(V_ss,[tauDOS_ss,tauDOS_sd,tauDOS_ds,tauDOS_dd],np.array(farm_ss.tCoarse))\n",
    "for i in range(0,len(tComp)):\n",
    "    print(f'Mean tau: {tComp[i]} with mean {Vcomp[i]} with ratio {Vcomp[0]/Vcomp[i]}')"
   ]
  },
  {
   "cell_type": "code",
   "execution_count": 11,
   "metadata": {},
   "outputs": [
    {
     "name": "stdout",
     "output_type": "stream",
     "text": [
      "Determ Feeding and Stoch Mortality as baseline\n",
      "Mean tau: [2.00627022] with mean 2442247.9001732706 with ratio 1.0\n",
      "Mean tau: [2.00545406] with mean 2406204.572636294 with ratio 1.0149793280034733\n"
     ]
    }
   ],
   "source": [
    "print('Determ Feeding and Stoch Mortality as baseline')\n",
    "tComp,Vcomp = fishFarm.compareStoppingTimes(V_ds,[tauDOS_ds,tauDOS_dd],np.array(farm_ss.tCoarse))\n",
    "for i in range(0,len(tComp)):\n",
    "    print(f'Mean tau: {tComp[i]} with mean {Vcomp[i]} with ratio {Vcomp[0]/Vcomp[i]}')"
   ]
  },
  {
   "cell_type": "code",
   "execution_count": 12,
   "metadata": {},
   "outputs": [
    {
     "name": "stdout",
     "output_type": "stream",
     "text": [
      "Mean stopping time 1.9049365520477295 with mean value 2443017.0 in 5.742878198623657 s\n",
      "Mean stopping time 2.015138626098633 with mean value 2468648.75 in 1.8985505104064941 s\n",
      "Mean stopping time 1.906715750694275 with mean value 2384695.25 in 1.942720651626587 s\n",
      "Mean stopping time 2.032078504562378 with mean value 2413580.25 in 1.8925843238830566 s\n"
     ]
    }
   ],
   "source": [
    "basis_ss = Polynomial(deg=2,dtype=dtype)\n",
    "basis_sd = Polynomial(deg=2,dtype=dtype)\n",
    "basis_ds = Polynomial(deg=2,dtype=dtype)\n",
    "basis_dd = Polynomial(deg=2,dtype=dtype)\n",
    "optLSMC_ss=LSMC(r,farm_ss.tCoarse,farm_ss.generateFishFarm,basis_ss,batch_size=batch_size)\n",
    "optLSMC_sd=LSMC(r,farm_sd.tCoarse,farm_sd.generateFishFarm,basis_sd,batch_size=batch_size)\n",
    "optLSMC_ds=LSMC(r,farm_ds.tCoarse,farm_ds.generateFishFarm,basis_ds,batch_size=batch_size)\n",
    "optLSMC_dd=LSMC(r,farm_dd.tCoarse,farm_dd.generateFishFarm,basis_dd,batch_size=batch_size)\n",
    "\n",
    "tic=time.time()\n",
    "tau_ss,Vtau_ss=optLSMC_ss.evaluate(X_ss,V_ss,Vh_ss,ft_ss)\n",
    "ctimeEval=time.time()-tic\n",
    "print(f'Mean stopping time {np.mean(tau_ss)} with mean value {np.mean(Vtau_ss)} in {ctimeEval} s')\n",
    "\n",
    "tic=time.time()\n",
    "tau_sd,Vtau_sd=optLSMC_sd.evaluate(X_sd,V_sd,Vh_sd,ft_sd)\n",
    "ctimeEval=time.time()-tic\n",
    "print(f'Mean stopping time {np.mean(tau_sd)} with mean value {np.mean(Vtau_sd)} in {ctimeEval} s')\n",
    "\n",
    "tic=time.time()\n",
    "tau_ds,Vtau_ds=optLSMC_ds.evaluate(X_ds,V_ds,Vh_ds,ft_ds)\n",
    "ctimeEval=time.time()-tic\n",
    "print(f'Mean stopping time {np.mean(tau_ds)} with mean value {np.mean(Vtau_ds)} in {ctimeEval} s')\n",
    "\n",
    "tic=time.time()\n",
    "tau_dd,Vtau_dd=optLSMC_dd.evaluate(X_dd,V_dd,Vh_dd,ft_dd)\n",
    "ctimeEval=time.time()-tic\n",
    "print(f'Mean stopping time {np.mean(tau_dd)} with mean value {np.mean(Vtau_dd)} in {ctimeEval} s')"
   ]
  },
  {
   "cell_type": "code",
   "execution_count": 13,
   "metadata": {},
   "outputs": [
    {
     "name": "stdout",
     "output_type": "stream",
     "text": [
      "Stoch Feeding and Stoch Mortality as baseline\n",
      "Mean tau: 1.904936600133442 with mean 2443017.139156914 with ratio 1.0\n",
      "Mean tau: 2.0151385885730635 with mean 2473601.830551052 with ratio 0.9876355640522287\n",
      "Mean tau: 1.9067157030534871 with mean 2383846.765370178 with ratio 1.024821383088165\n",
      "Mean tau: 2.0320785182819234 with mean 2417877.950963974 with ratio 1.0103972113989117\n"
     ]
    }
   ],
   "source": [
    "print('Stoch Feeding and Stoch Mortality as baseline')\n",
    "tComp,Vcomp = fishFarm.compareStoppingTimes(V_ss,[tau_ss,tau_sd,tau_ds,tau_dd],np.array(farm_ss.tCoarse))\n",
    "for i in range(0,len(tComp)):\n",
    "    print(f'Mean tau: {tComp[i]} with mean {Vcomp[i]} with ratio {Vcomp[0]/Vcomp[i]}')"
   ]
  },
  {
   "cell_type": "code",
   "execution_count": 14,
   "metadata": {},
   "outputs": [
    {
     "name": "stdout",
     "output_type": "stream",
     "text": [
      "Determ Feeding and Stoch Mortality as baseline\n",
      "Mean tau: 1.9067157030534871 with mean 2384695.1739433287 with ratio 1.0\n",
      "Mean tau: 2.0320785182819234 with mean 2418526.8492393494 with ratio 0.9860114534983719\n"
     ]
    }
   ],
   "source": [
    "print('Determ Feeding and Stoch Mortality as baseline')\n",
    "tComp,Vcomp = fishFarm.compareStoppingTimes(V_ds,[tau_ds,tau_dd],np.array(farm_ss.tCoarse))\n",
    "for i in range(0,len(tComp)):\n",
    "    print(f'Mean tau: {tComp[i]} with mean {Vcomp[i]} with ratio {Vcomp[0]/Vcomp[i]}')"
   ]
  }
 ],
 "metadata": {
  "kernelspec": {
   "display_name": "intelpython310",
   "language": "python",
   "name": "python3"
  },
  "language_info": {
   "codemirror_mode": {
    "name": "ipython",
    "version": 3
   },
   "file_extension": ".py",
   "mimetype": "text/x-python",
   "name": "python",
   "nbconvert_exporter": "python",
   "pygments_lexer": "ipython3",
   "version": "3.10.8"
  },
  "orig_nbformat": 4
 },
 "nbformat": 4,
 "nbformat_minor": 2
}
